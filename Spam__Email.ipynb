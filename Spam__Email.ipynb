{
  "cells": [
    {
      "cell_type": "code",
      "execution_count": null,
      "metadata": {
        "id": "twqcJdEQ32W3"
      },
      "outputs": [],
      "source": []
    },
    {
      "cell_type": "markdown",
      "metadata": {
        "id": "HbdOq5-7YJ6v"
      },
      "source": [
        "# Creating Model"
      ]
    },
    {
      "cell_type": "code",
      "execution_count": 20,
      "metadata": {
        "id": "a_nEQUWhXFL5"
      },
      "outputs": [],
      "source": [
        "import nltk\n",
        "import pandas as pd\n",
        "from sklearn.model_selection import train_test_split\n",
        "from sklearn.feature_extraction.text import CountVectorizer\n",
        "from sklearn.naive_bayes import MultinomialNB\n",
        "from sklearn.metrics import accuracy_score"
      ]
    },
    {
      "cell_type": "code",
      "execution_count": 21,
      "metadata": {
        "colab": {
          "base_uri": "https://localhost:8080/"
        },
        "id": "A9gT2tJ1XJcM",
        "outputId": "b1ed4946-79e4-4689-f331-2c389bf038cb"
      },
      "outputs": [
        {
          "output_type": "stream",
          "name": "stderr",
          "text": [
            "[nltk_data] Downloading package stopwords to /root/nltk_data...\n",
            "[nltk_data]   Package stopwords is already up-to-date!\n"
          ]
        },
        {
          "output_type": "execute_result",
          "data": {
            "text/plain": [
              "True"
            ]
          },
          "metadata": {},
          "execution_count": 21
        }
      ],
      "source": [
        "# Download the stopwords from nltk\n",
        "nltk.download('stopwords')"
      ]
    },
    {
      "cell_type": "code",
      "execution_count": 22,
      "metadata": {
        "colab": {
          "base_uri": "https://localhost:8080/",
          "height": 206
        },
        "id": "z1QZCDe5XTOO",
        "outputId": "57f183bd-70d1-4d85-99a8-b9a24ef9d5a3"
      },
      "outputs": [
        {
          "output_type": "execute_result",
          "data": {
            "text/plain": [
              "  label                                               text\n",
              "0   ham  Go until jurong point, crazy.. Available only ...\n",
              "1   ham                      Ok lar... Joking wif u oni...\n",
              "2  spam  Free entry in 2 a wkly comp to win FA Cup fina...\n",
              "3   ham  U dun say so early hor... U c already then say...\n",
              "4   ham  Nah I don't think he goes to usf, he lives aro..."
            ],
            "text/html": [
              "\n",
              "  <div id=\"df-2c7dd43c-e84b-4e29-9d74-14a1d6fae5b2\" class=\"colab-df-container\">\n",
              "    <div>\n",
              "<style scoped>\n",
              "    .dataframe tbody tr th:only-of-type {\n",
              "        vertical-align: middle;\n",
              "    }\n",
              "\n",
              "    .dataframe tbody tr th {\n",
              "        vertical-align: top;\n",
              "    }\n",
              "\n",
              "    .dataframe thead th {\n",
              "        text-align: right;\n",
              "    }\n",
              "</style>\n",
              "<table border=\"1\" class=\"dataframe\">\n",
              "  <thead>\n",
              "    <tr style=\"text-align: right;\">\n",
              "      <th></th>\n",
              "      <th>label</th>\n",
              "      <th>text</th>\n",
              "    </tr>\n",
              "  </thead>\n",
              "  <tbody>\n",
              "    <tr>\n",
              "      <th>0</th>\n",
              "      <td>ham</td>\n",
              "      <td>Go until jurong point, crazy.. Available only ...</td>\n",
              "    </tr>\n",
              "    <tr>\n",
              "      <th>1</th>\n",
              "      <td>ham</td>\n",
              "      <td>Ok lar... Joking wif u oni...</td>\n",
              "    </tr>\n",
              "    <tr>\n",
              "      <th>2</th>\n",
              "      <td>spam</td>\n",
              "      <td>Free entry in 2 a wkly comp to win FA Cup fina...</td>\n",
              "    </tr>\n",
              "    <tr>\n",
              "      <th>3</th>\n",
              "      <td>ham</td>\n",
              "      <td>U dun say so early hor... U c already then say...</td>\n",
              "    </tr>\n",
              "    <tr>\n",
              "      <th>4</th>\n",
              "      <td>ham</td>\n",
              "      <td>Nah I don't think he goes to usf, he lives aro...</td>\n",
              "    </tr>\n",
              "  </tbody>\n",
              "</table>\n",
              "</div>\n",
              "    <div class=\"colab-df-buttons\">\n",
              "\n",
              "  <div class=\"colab-df-container\">\n",
              "    <button class=\"colab-df-convert\" onclick=\"convertToInteractive('df-2c7dd43c-e84b-4e29-9d74-14a1d6fae5b2')\"\n",
              "            title=\"Convert this dataframe to an interactive table.\"\n",
              "            style=\"display:none;\">\n",
              "\n",
              "  <svg xmlns=\"http://www.w3.org/2000/svg\" height=\"24px\" viewBox=\"0 -960 960 960\">\n",
              "    <path d=\"M120-120v-720h720v720H120Zm60-500h600v-160H180v160Zm220 220h160v-160H400v160Zm0 220h160v-160H400v160ZM180-400h160v-160H180v160Zm440 0h160v-160H620v160ZM180-180h160v-160H180v160Zm440 0h160v-160H620v160Z\"/>\n",
              "  </svg>\n",
              "    </button>\n",
              "\n",
              "  <style>\n",
              "    .colab-df-container {\n",
              "      display:flex;\n",
              "      gap: 12px;\n",
              "    }\n",
              "\n",
              "    .colab-df-convert {\n",
              "      background-color: #E8F0FE;\n",
              "      border: none;\n",
              "      border-radius: 50%;\n",
              "      cursor: pointer;\n",
              "      display: none;\n",
              "      fill: #1967D2;\n",
              "      height: 32px;\n",
              "      padding: 0 0 0 0;\n",
              "      width: 32px;\n",
              "    }\n",
              "\n",
              "    .colab-df-convert:hover {\n",
              "      background-color: #E2EBFA;\n",
              "      box-shadow: 0px 1px 2px rgba(60, 64, 67, 0.3), 0px 1px 3px 1px rgba(60, 64, 67, 0.15);\n",
              "      fill: #174EA6;\n",
              "    }\n",
              "\n",
              "    .colab-df-buttons div {\n",
              "      margin-bottom: 4px;\n",
              "    }\n",
              "\n",
              "    [theme=dark] .colab-df-convert {\n",
              "      background-color: #3B4455;\n",
              "      fill: #D2E3FC;\n",
              "    }\n",
              "\n",
              "    [theme=dark] .colab-df-convert:hover {\n",
              "      background-color: #434B5C;\n",
              "      box-shadow: 0px 1px 3px 1px rgba(0, 0, 0, 0.15);\n",
              "      filter: drop-shadow(0px 1px 2px rgba(0, 0, 0, 0.3));\n",
              "      fill: #FFFFFF;\n",
              "    }\n",
              "  </style>\n",
              "\n",
              "    <script>\n",
              "      const buttonEl =\n",
              "        document.querySelector('#df-2c7dd43c-e84b-4e29-9d74-14a1d6fae5b2 button.colab-df-convert');\n",
              "      buttonEl.style.display =\n",
              "        google.colab.kernel.accessAllowed ? 'block' : 'none';\n",
              "\n",
              "      async function convertToInteractive(key) {\n",
              "        const element = document.querySelector('#df-2c7dd43c-e84b-4e29-9d74-14a1d6fae5b2');\n",
              "        const dataTable =\n",
              "          await google.colab.kernel.invokeFunction('convertToInteractive',\n",
              "                                                    [key], {});\n",
              "        if (!dataTable) return;\n",
              "\n",
              "        const docLinkHtml = 'Like what you see? Visit the ' +\n",
              "          '<a target=\"_blank\" href=https://colab.research.google.com/notebooks/data_table.ipynb>data table notebook</a>'\n",
              "          + ' to learn more about interactive tables.';\n",
              "        element.innerHTML = '';\n",
              "        dataTable['output_type'] = 'display_data';\n",
              "        await google.colab.output.renderOutput(dataTable, element);\n",
              "        const docLink = document.createElement('div');\n",
              "        docLink.innerHTML = docLinkHtml;\n",
              "        element.appendChild(docLink);\n",
              "      }\n",
              "    </script>\n",
              "  </div>\n",
              "\n",
              "\n",
              "<div id=\"df-1e140d8b-41d8-46f0-a462-2ef5da244884\">\n",
              "  <button class=\"colab-df-quickchart\" onclick=\"quickchart('df-1e140d8b-41d8-46f0-a462-2ef5da244884')\"\n",
              "            title=\"Suggest charts\"\n",
              "            style=\"display:none;\">\n",
              "\n",
              "<svg xmlns=\"http://www.w3.org/2000/svg\" height=\"24px\"viewBox=\"0 0 24 24\"\n",
              "     width=\"24px\">\n",
              "    <g>\n",
              "        <path d=\"M19 3H5c-1.1 0-2 .9-2 2v14c0 1.1.9 2 2 2h14c1.1 0 2-.9 2-2V5c0-1.1-.9-2-2-2zM9 17H7v-7h2v7zm4 0h-2V7h2v10zm4 0h-2v-4h2v4z\"/>\n",
              "    </g>\n",
              "</svg>\n",
              "  </button>\n",
              "\n",
              "<style>\n",
              "  .colab-df-quickchart {\n",
              "      --bg-color: #E8F0FE;\n",
              "      --fill-color: #1967D2;\n",
              "      --hover-bg-color: #E2EBFA;\n",
              "      --hover-fill-color: #174EA6;\n",
              "      --disabled-fill-color: #AAA;\n",
              "      --disabled-bg-color: #DDD;\n",
              "  }\n",
              "\n",
              "  [theme=dark] .colab-df-quickchart {\n",
              "      --bg-color: #3B4455;\n",
              "      --fill-color: #D2E3FC;\n",
              "      --hover-bg-color: #434B5C;\n",
              "      --hover-fill-color: #FFFFFF;\n",
              "      --disabled-bg-color: #3B4455;\n",
              "      --disabled-fill-color: #666;\n",
              "  }\n",
              "\n",
              "  .colab-df-quickchart {\n",
              "    background-color: var(--bg-color);\n",
              "    border: none;\n",
              "    border-radius: 50%;\n",
              "    cursor: pointer;\n",
              "    display: none;\n",
              "    fill: var(--fill-color);\n",
              "    height: 32px;\n",
              "    padding: 0;\n",
              "    width: 32px;\n",
              "  }\n",
              "\n",
              "  .colab-df-quickchart:hover {\n",
              "    background-color: var(--hover-bg-color);\n",
              "    box-shadow: 0 1px 2px rgba(60, 64, 67, 0.3), 0 1px 3px 1px rgba(60, 64, 67, 0.15);\n",
              "    fill: var(--button-hover-fill-color);\n",
              "  }\n",
              "\n",
              "  .colab-df-quickchart-complete:disabled,\n",
              "  .colab-df-quickchart-complete:disabled:hover {\n",
              "    background-color: var(--disabled-bg-color);\n",
              "    fill: var(--disabled-fill-color);\n",
              "    box-shadow: none;\n",
              "  }\n",
              "\n",
              "  .colab-df-spinner {\n",
              "    border: 2px solid var(--fill-color);\n",
              "    border-color: transparent;\n",
              "    border-bottom-color: var(--fill-color);\n",
              "    animation:\n",
              "      spin 1s steps(1) infinite;\n",
              "  }\n",
              "\n",
              "  @keyframes spin {\n",
              "    0% {\n",
              "      border-color: transparent;\n",
              "      border-bottom-color: var(--fill-color);\n",
              "      border-left-color: var(--fill-color);\n",
              "    }\n",
              "    20% {\n",
              "      border-color: transparent;\n",
              "      border-left-color: var(--fill-color);\n",
              "      border-top-color: var(--fill-color);\n",
              "    }\n",
              "    30% {\n",
              "      border-color: transparent;\n",
              "      border-left-color: var(--fill-color);\n",
              "      border-top-color: var(--fill-color);\n",
              "      border-right-color: var(--fill-color);\n",
              "    }\n",
              "    40% {\n",
              "      border-color: transparent;\n",
              "      border-right-color: var(--fill-color);\n",
              "      border-top-color: var(--fill-color);\n",
              "    }\n",
              "    60% {\n",
              "      border-color: transparent;\n",
              "      border-right-color: var(--fill-color);\n",
              "    }\n",
              "    80% {\n",
              "      border-color: transparent;\n",
              "      border-right-color: var(--fill-color);\n",
              "      border-bottom-color: var(--fill-color);\n",
              "    }\n",
              "    90% {\n",
              "      border-color: transparent;\n",
              "      border-bottom-color: var(--fill-color);\n",
              "    }\n",
              "  }\n",
              "</style>\n",
              "\n",
              "  <script>\n",
              "    async function quickchart(key) {\n",
              "      const quickchartButtonEl =\n",
              "        document.querySelector('#' + key + ' button');\n",
              "      quickchartButtonEl.disabled = true;  // To prevent multiple clicks.\n",
              "      quickchartButtonEl.classList.add('colab-df-spinner');\n",
              "      try {\n",
              "        const charts = await google.colab.kernel.invokeFunction(\n",
              "            'suggestCharts', [key], {});\n",
              "      } catch (error) {\n",
              "        console.error('Error during call to suggestCharts:', error);\n",
              "      }\n",
              "      quickchartButtonEl.classList.remove('colab-df-spinner');\n",
              "      quickchartButtonEl.classList.add('colab-df-quickchart-complete');\n",
              "    }\n",
              "    (() => {\n",
              "      let quickchartButtonEl =\n",
              "        document.querySelector('#df-1e140d8b-41d8-46f0-a462-2ef5da244884 button');\n",
              "      quickchartButtonEl.style.display =\n",
              "        google.colab.kernel.accessAllowed ? 'block' : 'none';\n",
              "    })();\n",
              "  </script>\n",
              "</div>\n",
              "\n",
              "    </div>\n",
              "  </div>\n"
            ],
            "application/vnd.google.colaboratory.intrinsic+json": {
              "type": "dataframe",
              "variable_name": "data",
              "summary": "{\n  \"name\": \"data\",\n  \"rows\": 5572,\n  \"fields\": [\n    {\n      \"column\": \"label\",\n      \"properties\": {\n        \"dtype\": \"category\",\n        \"num_unique_values\": 2,\n        \"samples\": [\n          \"spam\",\n          \"ham\"\n        ],\n        \"semantic_type\": \"\",\n        \"description\": \"\"\n      }\n    },\n    {\n      \"column\": \"text\",\n      \"properties\": {\n        \"dtype\": \"string\",\n        \"num_unique_values\": 5169,\n        \"samples\": [\n          \"Did u download the fring app?\",\n          \"Pass dis to all ur contacts n see wat u get! Red;i'm in luv wid u. Blue;u put a smile on my face. Purple;u r realy hot. Pink;u r so swt. Orange;i thnk i lyk u. Green;i realy wana go out wid u. Yelow;i wnt u bck. Black;i'm jealous of u. Brown;i miss you Nw plz giv me one color\"\n        ],\n        \"semantic_type\": \"\",\n        \"description\": \"\"\n      }\n    }\n  ]\n}"
            }
          },
          "metadata": {},
          "execution_count": 22
        }
      ],
      "source": [
        "data = pd.read_csv('spam.csv', encoding='latin-1')[['v1', 'v2']]\n",
        "data.columns = ['label', 'text']\n",
        "data.head()"
      ]
    },
    {
      "cell_type": "code",
      "execution_count": 23,
      "metadata": {
        "id": "Yx0OO2xrXXEh"
      },
      "outputs": [],
      "source": [
        "# Preprocessing and splitting the data\n",
        "X = data['text']\n",
        "y = data['label']"
      ]
    },
    {
      "cell_type": "code",
      "execution_count": 24,
      "metadata": {
        "colab": {
          "base_uri": "https://localhost:8080/",
          "height": 241
        },
        "id": "BZ3w0YQEXbFf",
        "outputId": "d5e002e3-b142-4144-d006-d5adaf16fe00"
      },
      "outputs": [
        {
          "output_type": "execute_result",
          "data": {
            "text/plain": [
              "0    Go until jurong point, crazy.. Available only ...\n",
              "1                        Ok lar... Joking wif u oni...\n",
              "2    Free entry in 2 a wkly comp to win FA Cup fina...\n",
              "3    U dun say so early hor... U c already then say...\n",
              "4    Nah I don't think he goes to usf, he lives aro...\n",
              "Name: text, dtype: object"
            ],
            "text/html": [
              "<div>\n",
              "<style scoped>\n",
              "    .dataframe tbody tr th:only-of-type {\n",
              "        vertical-align: middle;\n",
              "    }\n",
              "\n",
              "    .dataframe tbody tr th {\n",
              "        vertical-align: top;\n",
              "    }\n",
              "\n",
              "    .dataframe thead th {\n",
              "        text-align: right;\n",
              "    }\n",
              "</style>\n",
              "<table border=\"1\" class=\"dataframe\">\n",
              "  <thead>\n",
              "    <tr style=\"text-align: right;\">\n",
              "      <th></th>\n",
              "      <th>text</th>\n",
              "    </tr>\n",
              "  </thead>\n",
              "  <tbody>\n",
              "    <tr>\n",
              "      <th>0</th>\n",
              "      <td>Go until jurong point, crazy.. Available only ...</td>\n",
              "    </tr>\n",
              "    <tr>\n",
              "      <th>1</th>\n",
              "      <td>Ok lar... Joking wif u oni...</td>\n",
              "    </tr>\n",
              "    <tr>\n",
              "      <th>2</th>\n",
              "      <td>Free entry in 2 a wkly comp to win FA Cup fina...</td>\n",
              "    </tr>\n",
              "    <tr>\n",
              "      <th>3</th>\n",
              "      <td>U dun say so early hor... U c already then say...</td>\n",
              "    </tr>\n",
              "    <tr>\n",
              "      <th>4</th>\n",
              "      <td>Nah I don't think he goes to usf, he lives aro...</td>\n",
              "    </tr>\n",
              "  </tbody>\n",
              "</table>\n",
              "</div><br><label><b>dtype:</b> object</label>"
            ]
          },
          "metadata": {},
          "execution_count": 24
        }
      ],
      "source": [
        "X.head()"
      ]
    },
    {
      "cell_type": "code",
      "execution_count": 25,
      "metadata": {
        "colab": {
          "base_uri": "https://localhost:8080/",
          "height": 241
        },
        "id": "crvuJqlbXfCe",
        "outputId": "52dc3115-0e96-4de0-c6f0-7930b90b0e19"
      },
      "outputs": [
        {
          "output_type": "execute_result",
          "data": {
            "text/plain": [
              "0     ham\n",
              "1     ham\n",
              "2    spam\n",
              "3     ham\n",
              "4     ham\n",
              "Name: label, dtype: object"
            ],
            "text/html": [
              "<div>\n",
              "<style scoped>\n",
              "    .dataframe tbody tr th:only-of-type {\n",
              "        vertical-align: middle;\n",
              "    }\n",
              "\n",
              "    .dataframe tbody tr th {\n",
              "        vertical-align: top;\n",
              "    }\n",
              "\n",
              "    .dataframe thead th {\n",
              "        text-align: right;\n",
              "    }\n",
              "</style>\n",
              "<table border=\"1\" class=\"dataframe\">\n",
              "  <thead>\n",
              "    <tr style=\"text-align: right;\">\n",
              "      <th></th>\n",
              "      <th>label</th>\n",
              "    </tr>\n",
              "  </thead>\n",
              "  <tbody>\n",
              "    <tr>\n",
              "      <th>0</th>\n",
              "      <td>ham</td>\n",
              "    </tr>\n",
              "    <tr>\n",
              "      <th>1</th>\n",
              "      <td>ham</td>\n",
              "    </tr>\n",
              "    <tr>\n",
              "      <th>2</th>\n",
              "      <td>spam</td>\n",
              "    </tr>\n",
              "    <tr>\n",
              "      <th>3</th>\n",
              "      <td>ham</td>\n",
              "    </tr>\n",
              "    <tr>\n",
              "      <th>4</th>\n",
              "      <td>ham</td>\n",
              "    </tr>\n",
              "  </tbody>\n",
              "</table>\n",
              "</div><br><label><b>dtype:</b> object</label>"
            ]
          },
          "metadata": {},
          "execution_count": 25
        }
      ],
      "source": [
        "y.head()"
      ]
    },
    {
      "cell_type": "code",
      "execution_count": 26,
      "metadata": {
        "id": "o2mvXuZlXZyh"
      },
      "outputs": [],
      "source": [
        "# Convert labels to binary\n",
        "y = y.map({'ham': 0, 'spam': 1})"
      ]
    },
    {
      "cell_type": "code",
      "execution_count": 27,
      "metadata": {
        "colab": {
          "base_uri": "https://localhost:8080/",
          "height": 241
        },
        "id": "07yU4kwtXhKW",
        "outputId": "c67036ee-dfce-463f-a1a5-b72f889d08f1"
      },
      "outputs": [
        {
          "output_type": "execute_result",
          "data": {
            "text/plain": [
              "0    0\n",
              "1    0\n",
              "2    1\n",
              "3    0\n",
              "4    0\n",
              "Name: label, dtype: int64"
            ],
            "text/html": [
              "<div>\n",
              "<style scoped>\n",
              "    .dataframe tbody tr th:only-of-type {\n",
              "        vertical-align: middle;\n",
              "    }\n",
              "\n",
              "    .dataframe tbody tr th {\n",
              "        vertical-align: top;\n",
              "    }\n",
              "\n",
              "    .dataframe thead th {\n",
              "        text-align: right;\n",
              "    }\n",
              "</style>\n",
              "<table border=\"1\" class=\"dataframe\">\n",
              "  <thead>\n",
              "    <tr style=\"text-align: right;\">\n",
              "      <th></th>\n",
              "      <th>label</th>\n",
              "    </tr>\n",
              "  </thead>\n",
              "  <tbody>\n",
              "    <tr>\n",
              "      <th>0</th>\n",
              "      <td>0</td>\n",
              "    </tr>\n",
              "    <tr>\n",
              "      <th>1</th>\n",
              "      <td>0</td>\n",
              "    </tr>\n",
              "    <tr>\n",
              "      <th>2</th>\n",
              "      <td>1</td>\n",
              "    </tr>\n",
              "    <tr>\n",
              "      <th>3</th>\n",
              "      <td>0</td>\n",
              "    </tr>\n",
              "    <tr>\n",
              "      <th>4</th>\n",
              "      <td>0</td>\n",
              "    </tr>\n",
              "  </tbody>\n",
              "</table>\n",
              "</div><br><label><b>dtype:</b> int64</label>"
            ]
          },
          "metadata": {},
          "execution_count": 27
        }
      ],
      "source": [
        "y.head()"
      ]
    },
    {
      "cell_type": "code",
      "execution_count": 28,
      "metadata": {
        "id": "0DLcD8ZxXkf2"
      },
      "outputs": [],
      "source": [
        "X_train, X_test, y_train, y_test = train_test_split(X, y, test_size=0.25, random_state=42)"
      ]
    },
    {
      "cell_type": "code",
      "execution_count": 29,
      "metadata": {
        "id": "Glh_6TX8XmJg"
      },
      "outputs": [],
      "source": [
        "# Vectorizing the text data\n",
        "vectorizer = CountVectorizer(stop_words='english')\n",
        "X_train_vec = vectorizer.fit_transform(X_train)\n",
        "X_test_vec = vectorizer.transform(X_test)"
      ]
    },
    {
      "cell_type": "code",
      "execution_count": 30,
      "metadata": {
        "colab": {
          "base_uri": "https://localhost:8080/",
          "height": 75
        },
        "id": "6xaKQcxZXnwC",
        "outputId": "4aab845d-e35c-44ae-ca64-4fc4628413df"
      },
      "outputs": [
        {
          "output_type": "execute_result",
          "data": {
            "text/plain": [
              "MultinomialNB()"
            ],
            "text/html": [
              "<style>#sk-container-id-2 {color: black;}#sk-container-id-2 pre{padding: 0;}#sk-container-id-2 div.sk-toggleable {background-color: white;}#sk-container-id-2 label.sk-toggleable__label {cursor: pointer;display: block;width: 100%;margin-bottom: 0;padding: 0.3em;box-sizing: border-box;text-align: center;}#sk-container-id-2 label.sk-toggleable__label-arrow:before {content: \"▸\";float: left;margin-right: 0.25em;color: #696969;}#sk-container-id-2 label.sk-toggleable__label-arrow:hover:before {color: black;}#sk-container-id-2 div.sk-estimator:hover label.sk-toggleable__label-arrow:before {color: black;}#sk-container-id-2 div.sk-toggleable__content {max-height: 0;max-width: 0;overflow: hidden;text-align: left;background-color: #f0f8ff;}#sk-container-id-2 div.sk-toggleable__content pre {margin: 0.2em;color: black;border-radius: 0.25em;background-color: #f0f8ff;}#sk-container-id-2 input.sk-toggleable__control:checked~div.sk-toggleable__content {max-height: 200px;max-width: 100%;overflow: auto;}#sk-container-id-2 input.sk-toggleable__control:checked~label.sk-toggleable__label-arrow:before {content: \"▾\";}#sk-container-id-2 div.sk-estimator input.sk-toggleable__control:checked~label.sk-toggleable__label {background-color: #d4ebff;}#sk-container-id-2 div.sk-label input.sk-toggleable__control:checked~label.sk-toggleable__label {background-color: #d4ebff;}#sk-container-id-2 input.sk-hidden--visually {border: 0;clip: rect(1px 1px 1px 1px);clip: rect(1px, 1px, 1px, 1px);height: 1px;margin: -1px;overflow: hidden;padding: 0;position: absolute;width: 1px;}#sk-container-id-2 div.sk-estimator {font-family: monospace;background-color: #f0f8ff;border: 1px dotted black;border-radius: 0.25em;box-sizing: border-box;margin-bottom: 0.5em;}#sk-container-id-2 div.sk-estimator:hover {background-color: #d4ebff;}#sk-container-id-2 div.sk-parallel-item::after {content: \"\";width: 100%;border-bottom: 1px solid gray;flex-grow: 1;}#sk-container-id-2 div.sk-label:hover label.sk-toggleable__label {background-color: #d4ebff;}#sk-container-id-2 div.sk-serial::before {content: \"\";position: absolute;border-left: 1px solid gray;box-sizing: border-box;top: 0;bottom: 0;left: 50%;z-index: 0;}#sk-container-id-2 div.sk-serial {display: flex;flex-direction: column;align-items: center;background-color: white;padding-right: 0.2em;padding-left: 0.2em;position: relative;}#sk-container-id-2 div.sk-item {position: relative;z-index: 1;}#sk-container-id-2 div.sk-parallel {display: flex;align-items: stretch;justify-content: center;background-color: white;position: relative;}#sk-container-id-2 div.sk-item::before, #sk-container-id-2 div.sk-parallel-item::before {content: \"\";position: absolute;border-left: 1px solid gray;box-sizing: border-box;top: 0;bottom: 0;left: 50%;z-index: -1;}#sk-container-id-2 div.sk-parallel-item {display: flex;flex-direction: column;z-index: 1;position: relative;background-color: white;}#sk-container-id-2 div.sk-parallel-item:first-child::after {align-self: flex-end;width: 50%;}#sk-container-id-2 div.sk-parallel-item:last-child::after {align-self: flex-start;width: 50%;}#sk-container-id-2 div.sk-parallel-item:only-child::after {width: 0;}#sk-container-id-2 div.sk-dashed-wrapped {border: 1px dashed gray;margin: 0 0.4em 0.5em 0.4em;box-sizing: border-box;padding-bottom: 0.4em;background-color: white;}#sk-container-id-2 div.sk-label label {font-family: monospace;font-weight: bold;display: inline-block;line-height: 1.2em;}#sk-container-id-2 div.sk-label-container {text-align: center;}#sk-container-id-2 div.sk-container {/* jupyter's `normalize.less` sets `[hidden] { display: none; }` but bootstrap.min.css set `[hidden] { display: none !important; }` so we also need the `!important` here to be able to override the default hidden behavior on the sphinx rendered scikit-learn.org. See: https://github.com/scikit-learn/scikit-learn/issues/21755 */display: inline-block !important;position: relative;}#sk-container-id-2 div.sk-text-repr-fallback {display: none;}</style><div id=\"sk-container-id-2\" class=\"sk-top-container\"><div class=\"sk-text-repr-fallback\"><pre>MultinomialNB()</pre><b>In a Jupyter environment, please rerun this cell to show the HTML representation or trust the notebook. <br />On GitHub, the HTML representation is unable to render, please try loading this page with nbviewer.org.</b></div><div class=\"sk-container\" hidden><div class=\"sk-item\"><div class=\"sk-estimator sk-toggleable\"><input class=\"sk-toggleable__control sk-hidden--visually\" id=\"sk-estimator-id-2\" type=\"checkbox\" checked><label for=\"sk-estimator-id-2\" class=\"sk-toggleable__label sk-toggleable__label-arrow\">MultinomialNB</label><div class=\"sk-toggleable__content\"><pre>MultinomialNB()</pre></div></div></div></div></div>"
            ]
          },
          "metadata": {},
          "execution_count": 30
        }
      ],
      "source": [
        "# Train a Naive Bayes model\n",
        "model = MultinomialNB()\n",
        "model.fit(X_train_vec, y_train)"
      ]
    },
    {
      "cell_type": "code",
      "execution_count": 31,
      "metadata": {
        "colab": {
          "base_uri": "https://localhost:8080/"
        },
        "id": "fZkhh_21XqHR",
        "outputId": "f63c93d0-dc4b-43ce-b4d6-338a5bb02769"
      },
      "outputs": [
        {
          "output_type": "stream",
          "name": "stdout",
          "text": [
            "Accuracy: 0.9827709978463748\n"
          ]
        }
      ],
      "source": [
        "# Evaluate the model\n",
        "y_pred = model.predict(X_test_vec)\n",
        "print(\"Accuracy:\", accuracy_score(y_test, y_pred))"
      ]
    },
    {
      "cell_type": "code",
      "execution_count": 32,
      "metadata": {
        "colab": {
          "base_uri": "https://localhost:8080/"
        },
        "id": "DKUtJK7yYGu2",
        "outputId": "f2e6e935-e26e-4564-dc6e-ed9b68a12b65"
      },
      "outputs": [
        {
          "output_type": "stream",
          "name": "stdout",
          "text": [
            "Classification Report:\n",
            "              precision    recall  f1-score   support\n",
            "\n",
            "         Ham       0.99      0.99      0.99      1202\n",
            "        Spam       0.96      0.91      0.94       191\n",
            "\n",
            "    accuracy                           0.98      1393\n",
            "   macro avg       0.97      0.95      0.96      1393\n",
            "weighted avg       0.98      0.98      0.98      1393\n",
            "\n"
          ]
        }
      ],
      "source": [
        "# Additionally, display classification metrics\n",
        "from sklearn.metrics import classification_report\n",
        "print(\"Classification Report:\")\n",
        "print(classification_report(y_test, y_pred, target_names=['Ham', 'Spam']))"
      ]
    },
    {
      "cell_type": "code",
      "execution_count": 33,
      "metadata": {
        "colab": {
          "base_uri": "https://localhost:8080/"
        },
        "id": "gISAKbjJWBH8",
        "outputId": "d901e60c-6353-4a54-94c2-e787c9778fc1"
      },
      "outputs": [
        {
          "output_type": "stream",
          "name": "stdout",
          "text": [
            "Best model and vectorizer have been saved successfully!\n"
          ]
        }
      ],
      "source": [
        "import pickle\n",
        "# Save the best model and the vectorizer\n",
        "pickle.dump(model, open('model.pkl', 'wb'))\n",
        "pickle.dump(vectorizer, open('vectorizer.pkl', 'wb'))\n",
        "\n",
        "print(\"Best model and vectorizer have been saved successfully!\")\n"
      ]
    },
    {
      "cell_type": "markdown",
      "metadata": {
        "id": "hf-FPZ-ZXul-"
      },
      "source": [
        "# Model Testing"
      ]
    },
    {
      "cell_type": "code",
      "source": [
        "import pickle"
      ],
      "metadata": {
        "id": "0cUBvFhJ8BXg"
      },
      "execution_count": 42,
      "outputs": []
    },
    {
      "cell_type": "code",
      "execution_count": 49,
      "metadata": {
        "id": "bKjdm_mfXxnJ"
      },
      "outputs": [],
      "source": [
        "test_emails = [\n",
        "    \"Congratulations! You've won a free ticket to the Bahamas! Call now!\",\n",
        "    \"Hey John, let's grab lunch tomorrow.\",\n",
        "    \"Get 50% off on your next purchase, only for today!\",\n",
        "    \"Can we reschedule our meeting to next week?\",\n",
        "    \"Wow, You have won 50,000 Dollar\"]"
      ]
    },
    {
      "cell_type": "code",
      "execution_count": 50,
      "metadata": {
        "colab": {
          "base_uri": "https://localhost:8080/"
        },
        "id": "U-WI4f9ZXzT4",
        "outputId": "0222380a-bbc5-43c1-bcd3-41de77e69a2f"
      },
      "outputs": [
        {
          "output_type": "stream",
          "name": "stdout",
          "text": [
            "Model and vectorizer loaded successfully.\n"
          ]
        }
      ],
      "source": [
        "# Load the trained model and vectorizer\n",
        "model = pickle.load(open('model.pkl', 'rb'))\n",
        "vectorizer = pickle.load(open('vectorizer.pkl', 'rb'))\n",
        "\n",
        "print(\"Model and vectorizer loaded successfully.\")"
      ]
    },
    {
      "cell_type": "code",
      "execution_count": 51,
      "metadata": {
        "id": "H-cvWvP_X2E6"
      },
      "outputs": [],
      "source": [
        "# Preprocess and vectorize the test emails\n",
        "test_emails_vec = vectorizer.transform(test_emails)"
      ]
    },
    {
      "cell_type": "code",
      "execution_count": 52,
      "metadata": {
        "id": "VLQJ1RHPX3xC"
      },
      "outputs": [],
      "source": [
        "# Make predictions\n",
        "test_predictions = model.predict(test_emails_vec)"
      ]
    },
    {
      "cell_type": "code",
      "execution_count": 53,
      "metadata": {
        "colab": {
          "base_uri": "https://localhost:8080/"
        },
        "id": "z4nISLoeX6Ne",
        "outputId": "5ac74cd6-1472-415b-80c7-d127c254f2c6"
      },
      "outputs": [
        {
          "output_type": "stream",
          "name": "stdout",
          "text": [
            "Email: Congratulations! You've won a free ticket to the Bahamas! Call now!\n",
            "Prediction: Spam\n",
            "\n",
            "Email: Hey John, let's grab lunch tomorrow.\n",
            "Prediction: Not Spam\n",
            "\n",
            "Email: Get 50% off on your next purchase, only for today!\n",
            "Prediction: Spam\n",
            "\n",
            "Email: Can we reschedule our meeting to next week?\n",
            "Prediction: Not Spam\n",
            "\n",
            "Email: Wow, You have won 50,000 Dollar\n",
            "Prediction: Spam\n",
            "\n"
          ]
        }
      ],
      "source": [
        "# Output the results\n",
        "for email, prediction in zip(test_emails, test_predictions):\n",
        "    result = \"Spam\" if prediction == 1 else \"Not Spam\"\n",
        "    print(f\"Email: {email}\\nPrediction: {result}\\n\")"
      ]
    },
    {
      "cell_type": "markdown",
      "metadata": {
        "id": "Rd-K_HeKXAWD"
      },
      "source": [
        "# Steamlit Code"
      ]
    },
    {
      "cell_type": "code",
      "execution_count": null,
      "metadata": {
        "id": "saAEi7oJW956"
      },
      "outputs": [],
      "source": [
        "import streamlit as st\n",
        "import pickle\n",
        "import nltk\n",
        "from nltk.corpus import stopwords\n",
        "\n",
        "# Ensure that nltk stopwords are downloaded\n",
        "nltk.download('stopwords')\n",
        "\n",
        "# Load the trained model and vectorizer\n",
        "model = pickle.load(open('best_spam_model.pkl', 'rb'))\n",
        "vectorizer = pickle.load(open('vectorizer.pkl', 'rb'))\n",
        "\n",
        "# Function to preprocess text\n",
        "def preprocess_text(text):\n",
        "    stop_words = set(stopwords.words('english'))\n",
        "    text = text.lower()\n",
        "    words = text.split()\n",
        "    words = [word for word in words if word not in stop_words]\n",
        "    return ' '.join(words)\n",
        "\n",
        "# Streamlit UI\n",
        "st.title(\"Spam Email Detection Using NLP and PyCaret\")\n",
        "\n",
        "# Input form\n",
        "user_input = st.text_area(\"Enter the email content here\", height=200)\n",
        "\n",
        "# Detect button\n",
        "if st.button(\"Detect Spam\"):\n",
        "    if user_input:\n",
        "        # Preprocess the input text\n",
        "        processed_input = preprocess_text(user_input)\n",
        "\n",
        "        # Vectorize the input text\n",
        "        input_vec = vectorizer.transform([processed_input])\n",
        "\n",
        "        # Predict using the loaded model\n",
        "        prediction = model.predict(input_vec.toarray())\n",
        "\n",
        "        # Display the result\n",
        "        if prediction[0] == 1:\n",
        "            st.error(\"This is a Spam email.\")\n",
        "        else:\n",
        "            st.success(\"This is not a Spam email.\")\n"
      ]
    },
    {
      "cell_type": "markdown",
      "metadata": {
        "id": "Mqccw-KrYpht"
      },
      "source": [
        "# Using Pycrate"
      ]
    },
    {
      "cell_type": "code",
      "source": [
        "import nltk\n",
        "import pandas as pd\n",
        "from sklearn.model_selection import train_test_split\n",
        "from sklearn.feature_extraction.text import CountVectorizer\n",
        "from sklearn.metrics import accuracy_score, classification_report\n",
        "from pycaret.classification import setup, compare_models, finalize_model\n",
        "import numpy as np\n",
        "\n",
        "# Download the stopwords from nltk\n",
        "nltk.download('stopwords')\n",
        "\n",
        "# Load the dataset\n",
        "data = pd.read_csv('spam.csv', encoding='latin-1')[['v1', 'v2']]\n",
        "data.columns = ['label', 'text']\n",
        "\n",
        "# Preprocessing and splitting the data\n",
        "X = data['text']\n",
        "y = data['label']\n",
        "\n",
        "# Convert labels to binary\n",
        "y = y.map({'ham': 0, 'spam': 1})\n",
        "\n",
        "# Split the data into train and test sets\n",
        "X_train, X_test, y_train, y_test = train_test_split(X, y, test_size=0.25, random_state=42)\n",
        "\n",
        "# Vectorizing the text data\n",
        "vectorizer = CountVectorizer(stop_words='english')\n",
        "X_train_vec = vectorizer.fit_transform(X_train)\n",
        "X_test_vec = vectorizer.transform(X_test)\n",
        "\n",
        "# Convert the vectorized train and test data into DataFrames for compatibility with PyCaret\n",
        "X_train_df = pd.DataFrame(X_train_vec.toarray())\n",
        "X_train_df['label'] = y_train.values\n",
        "\n",
        "# Setup PyCaret with the processed training data\n",
        "clf_setup = setup(data=X_train_df, target='label', train_size=0.99, preprocess=False, session_id=42)"
      ],
      "metadata": {
        "colab": {
          "base_uri": "https://localhost:8080/",
          "height": 335
        },
        "id": "S4Q22t_Vrnri",
        "outputId": "333f1aba-446e-4f2f-f0e4-8bd176fe3864"
      },
      "execution_count": null,
      "outputs": [
        {
          "output_type": "stream",
          "name": "stderr",
          "text": [
            "[nltk_data] Downloading package stopwords to /root/nltk_data...\n",
            "[nltk_data]   Package stopwords is already up-to-date!\n"
          ]
        },
        {
          "output_type": "display_data",
          "data": {
            "text/plain": [
              "<IPython.core.display.HTML object>"
            ],
            "text/html": []
          },
          "metadata": {}
        },
        {
          "output_type": "display_data",
          "data": {
            "text/plain": [
              "<pandas.io.formats.style.Styler at 0x7c5c876a3820>"
            ],
            "text/html": [
              "<style type=\"text/css\">\n",
              "</style>\n",
              "<table id=\"T_63d4c\" class=\"dataframe\">\n",
              "  <thead>\n",
              "    <tr>\n",
              "      <th class=\"blank level0\" >&nbsp;</th>\n",
              "      <th id=\"T_63d4c_level0_col0\" class=\"col_heading level0 col0\" >Description</th>\n",
              "      <th id=\"T_63d4c_level0_col1\" class=\"col_heading level0 col1\" >Value</th>\n",
              "    </tr>\n",
              "  </thead>\n",
              "  <tbody>\n",
              "    <tr>\n",
              "      <th id=\"T_63d4c_level0_row0\" class=\"row_heading level0 row0\" >0</th>\n",
              "      <td id=\"T_63d4c_row0_col0\" class=\"data row0 col0\" >Session id</td>\n",
              "      <td id=\"T_63d4c_row0_col1\" class=\"data row0 col1\" >42</td>\n",
              "    </tr>\n",
              "    <tr>\n",
              "      <th id=\"T_63d4c_level0_row1\" class=\"row_heading level0 row1\" >1</th>\n",
              "      <td id=\"T_63d4c_row1_col0\" class=\"data row1 col0\" >Target</td>\n",
              "      <td id=\"T_63d4c_row1_col1\" class=\"data row1 col1\" >label</td>\n",
              "    </tr>\n",
              "    <tr>\n",
              "      <th id=\"T_63d4c_level0_row2\" class=\"row_heading level0 row2\" >2</th>\n",
              "      <td id=\"T_63d4c_row2_col0\" class=\"data row2 col0\" >Target type</td>\n",
              "      <td id=\"T_63d4c_row2_col1\" class=\"data row2 col1\" >Binary</td>\n",
              "    </tr>\n",
              "    <tr>\n",
              "      <th id=\"T_63d4c_level0_row3\" class=\"row_heading level0 row3\" >3</th>\n",
              "      <td id=\"T_63d4c_row3_col0\" class=\"data row3 col0\" >Original data shape</td>\n",
              "      <td id=\"T_63d4c_row3_col1\" class=\"data row3 col1\" >(4179, 7181)</td>\n",
              "    </tr>\n",
              "    <tr>\n",
              "      <th id=\"T_63d4c_level0_row4\" class=\"row_heading level0 row4\" >4</th>\n",
              "      <td id=\"T_63d4c_row4_col0\" class=\"data row4 col0\" >Transformed data shape</td>\n",
              "      <td id=\"T_63d4c_row4_col1\" class=\"data row4 col1\" >(4179, 7181)</td>\n",
              "    </tr>\n",
              "    <tr>\n",
              "      <th id=\"T_63d4c_level0_row5\" class=\"row_heading level0 row5\" >5</th>\n",
              "      <td id=\"T_63d4c_row5_col0\" class=\"data row5 col0\" >Transformed train set shape</td>\n",
              "      <td id=\"T_63d4c_row5_col1\" class=\"data row5 col1\" >(4137, 7181)</td>\n",
              "    </tr>\n",
              "    <tr>\n",
              "      <th id=\"T_63d4c_level0_row6\" class=\"row_heading level0 row6\" >6</th>\n",
              "      <td id=\"T_63d4c_row6_col0\" class=\"data row6 col0\" >Transformed test set shape</td>\n",
              "      <td id=\"T_63d4c_row6_col1\" class=\"data row6 col1\" >(42, 7181)</td>\n",
              "    </tr>\n",
              "    <tr>\n",
              "      <th id=\"T_63d4c_level0_row7\" class=\"row_heading level0 row7\" >7</th>\n",
              "      <td id=\"T_63d4c_row7_col0\" class=\"data row7 col0\" >Numeric features</td>\n",
              "      <td id=\"T_63d4c_row7_col1\" class=\"data row7 col1\" >7180</td>\n",
              "    </tr>\n",
              "  </tbody>\n",
              "</table>\n"
            ]
          },
          "metadata": {}
        }
      ]
    },
    {
      "cell_type": "code",
      "source": [
        "import pandas as pd\n",
        "import nltk\n",
        "from sklearn.model_selection import train_test_split\n",
        "from sklearn.feature_extraction.text import CountVectorizer\n",
        "from sklearn.metrics import accuracy_score, classification_report\n",
        "from pycaret.classification import setup, compare_models, finalize_model\n",
        "import signal\n",
        "\n",
        "# Download stopwords if needed\n",
        "nltk.download('stopwords')\n",
        "\n",
        "# Timeout handler\n",
        "class TimeoutException(Exception):\n",
        "    pass\n",
        "\n",
        "def timeout_handler(signum, frame):\n",
        "    raise TimeoutException\n",
        "\n",
        "# Set the timeout handler\n",
        "signal.signal(signal.SIGALRM, timeout_handler)\n",
        "\n",
        "# Load the dataset\n",
        "data = pd.read_csv('spam.csv', encoding='latin-1')[['v1', 'v2']]\n",
        "data.columns = ['label', 'text']\n",
        "\n",
        "# Preprocessing and splitting the data\n",
        "X = data['text']\n",
        "y = data['label']\n",
        "y = y.map({'ham': 0, 'spam': 1})\n",
        "\n",
        "# Split the data into train and test sets\n",
        "X_train, X_test, y_train, y_test = train_test_split(X, y, test_size=0.25, random_state=42)\n",
        "\n",
        "# Vectorizing the text data\n",
        "vectorizer = CountVectorizer(stop_words='english')\n",
        "X_train_vec = vectorizer.fit_transform(X_train)\n",
        "X_test_vec = vectorizer.transform(X_test)\n",
        "\n",
        "# Convert the vectorized data to DataFrames for PyCaret\n",
        "X_train_df = pd.DataFrame(X_train_vec.toarray())\n",
        "X_train_df['label'] = y_train.values\n",
        "\n",
        "# PyCaret setup with preprocessed data\n",
        "clf_setup = setup(data=X_train_df, target='label', preprocess=False, session_id=42)\n",
        "\n"
      ],
      "metadata": {
        "colab": {
          "base_uri": "https://localhost:8080/",
          "height": 335
        },
        "id": "nutAnk4fsI7_",
        "outputId": "0d09a190-0823-4bbd-fb42-9f7c0c7f9ecd"
      },
      "execution_count": null,
      "outputs": [
        {
          "output_type": "stream",
          "name": "stderr",
          "text": [
            "[nltk_data] Downloading package stopwords to /root/nltk_data...\n",
            "[nltk_data]   Package stopwords is already up-to-date!\n"
          ]
        },
        {
          "output_type": "display_data",
          "data": {
            "text/plain": [
              "<IPython.core.display.HTML object>"
            ],
            "text/html": []
          },
          "metadata": {}
        },
        {
          "output_type": "display_data",
          "data": {
            "text/plain": [
              "<IPython.core.display.HTML object>"
            ],
            "text/html": []
          },
          "metadata": {}
        },
        {
          "output_type": "display_data",
          "data": {
            "text/plain": [
              "<pandas.io.formats.style.Styler at 0x7c5c87c045e0>"
            ],
            "text/html": [
              "<style type=\"text/css\">\n",
              "</style>\n",
              "<table id=\"T_dacb5\" class=\"dataframe\">\n",
              "  <thead>\n",
              "    <tr>\n",
              "      <th class=\"blank level0\" >&nbsp;</th>\n",
              "      <th id=\"T_dacb5_level0_col0\" class=\"col_heading level0 col0\" >Description</th>\n",
              "      <th id=\"T_dacb5_level0_col1\" class=\"col_heading level0 col1\" >Value</th>\n",
              "    </tr>\n",
              "  </thead>\n",
              "  <tbody>\n",
              "    <tr>\n",
              "      <th id=\"T_dacb5_level0_row0\" class=\"row_heading level0 row0\" >0</th>\n",
              "      <td id=\"T_dacb5_row0_col0\" class=\"data row0 col0\" >Session id</td>\n",
              "      <td id=\"T_dacb5_row0_col1\" class=\"data row0 col1\" >42</td>\n",
              "    </tr>\n",
              "    <tr>\n",
              "      <th id=\"T_dacb5_level0_row1\" class=\"row_heading level0 row1\" >1</th>\n",
              "      <td id=\"T_dacb5_row1_col0\" class=\"data row1 col0\" >Target</td>\n",
              "      <td id=\"T_dacb5_row1_col1\" class=\"data row1 col1\" >label</td>\n",
              "    </tr>\n",
              "    <tr>\n",
              "      <th id=\"T_dacb5_level0_row2\" class=\"row_heading level0 row2\" >2</th>\n",
              "      <td id=\"T_dacb5_row2_col0\" class=\"data row2 col0\" >Target type</td>\n",
              "      <td id=\"T_dacb5_row2_col1\" class=\"data row2 col1\" >Binary</td>\n",
              "    </tr>\n",
              "    <tr>\n",
              "      <th id=\"T_dacb5_level0_row3\" class=\"row_heading level0 row3\" >3</th>\n",
              "      <td id=\"T_dacb5_row3_col0\" class=\"data row3 col0\" >Original data shape</td>\n",
              "      <td id=\"T_dacb5_row3_col1\" class=\"data row3 col1\" >(4179, 7181)</td>\n",
              "    </tr>\n",
              "    <tr>\n",
              "      <th id=\"T_dacb5_level0_row4\" class=\"row_heading level0 row4\" >4</th>\n",
              "      <td id=\"T_dacb5_row4_col0\" class=\"data row4 col0\" >Transformed data shape</td>\n",
              "      <td id=\"T_dacb5_row4_col1\" class=\"data row4 col1\" >(4179, 7181)</td>\n",
              "    </tr>\n",
              "    <tr>\n",
              "      <th id=\"T_dacb5_level0_row5\" class=\"row_heading level0 row5\" >5</th>\n",
              "      <td id=\"T_dacb5_row5_col0\" class=\"data row5 col0\" >Transformed train set shape</td>\n",
              "      <td id=\"T_dacb5_row5_col1\" class=\"data row5 col1\" >(2925, 7181)</td>\n",
              "    </tr>\n",
              "    <tr>\n",
              "      <th id=\"T_dacb5_level0_row6\" class=\"row_heading level0 row6\" >6</th>\n",
              "      <td id=\"T_dacb5_row6_col0\" class=\"data row6 col0\" >Transformed test set shape</td>\n",
              "      <td id=\"T_dacb5_row6_col1\" class=\"data row6 col1\" >(1254, 7181)</td>\n",
              "    </tr>\n",
              "    <tr>\n",
              "      <th id=\"T_dacb5_level0_row7\" class=\"row_heading level0 row7\" >7</th>\n",
              "      <td id=\"T_dacb5_row7_col0\" class=\"data row7 col0\" >Numeric features</td>\n",
              "      <td id=\"T_dacb5_row7_col1\" class=\"data row7 col1\" >7180</td>\n",
              "    </tr>\n",
              "  </tbody>\n",
              "</table>\n"
            ]
          },
          "metadata": {}
        }
      ]
    },
    {
      "cell_type": "code",
      "source": [
        "# Define the time limit (in seconds) per model training\n",
        "time_limit = 60  # Adjust as needed\n",
        "\n",
        "best_model = None\n",
        "best_accuracy = 0\n",
        "\n",
        "try:\n",
        "    # Start the timer\n",
        "    signal.alarm(time_limit)\n",
        "\n",
        "    # Compare models using PyCaret\n",
        "    best_model = compare_models()\n",
        "\n",
        "    # Disable the timer if successful\n",
        "    signal.alarm(0)\n",
        "\n",
        "    # Finalize the best model\n",
        "    final_best_model = finalize_model(best_model)\n",
        "\n",
        "    # Make predictions on the test set\n",
        "    y_pred = final_best_model.predict(X_test_vec.toarray())\n",
        "\n",
        "    # Evaluate the model\n",
        "    accuracy = accuracy_score(y_test, y_pred)\n",
        "    print(f\"Best model accuracy: {accuracy}\")\n",
        "\n",
        "    # Display classification report\n",
        "    print(\"Classification Report:\")\n",
        "    print(classification_report(y_test, y_pred, target_names=['Ham', 'Spam']))\n",
        "\n",
        "except TimeoutException:\n",
        "    print(\"Model comparison took too long and was skipped.\")\n",
        "except Exception as e:\n",
        "    print(f\"Error occurred: {e}\")\n",
        "finally:\n",
        "    # Reset the alarm (important to clear the timer)\n",
        "    signal.alarm(0)\n"
      ],
      "metadata": {
        "colab": {
          "base_uri": "https://localhost:8080/",
          "height": 710,
          "referenced_widgets": [
            "5c9bab3b208c4df2a022748d939640e0",
            "8171e57b92ff4bdda31ff8614f9f26df",
            "6453d97575664dba81c1a1f94da083d9",
            "08ffbacc21f7464aa44e2a93e83dba09",
            "b37fe0276e3b48f7b77dc2c2f75150f2",
            "3f5063480ceb40b099283ec969bfb8e6",
            "0179618291c246e5b80ff316a1f0e1ed",
            "21058545361643319284d1b83ec59ad9",
            "5a293489de0e4d75a4cebafdb9daaeeb",
            "46a74a0a8d6348b5b00dce7c9b240695",
            "29fea2ee52a04018ba5f876820a1768c"
          ]
        },
        "id": "B4ePGhJTylQC",
        "outputId": "cf0ae2d8-d4a9-4e61-80a2-49e2cf2a72a5"
      },
      "execution_count": null,
      "outputs": [
        {
          "output_type": "display_data",
          "data": {
            "text/plain": [
              "<IPython.core.display.HTML object>"
            ],
            "text/html": []
          },
          "metadata": {}
        },
        {
          "output_type": "display_data",
          "data": {
            "text/plain": [
              "<pandas.io.formats.style.Styler at 0x7c5c848ffd60>"
            ],
            "text/html": [
              "<style type=\"text/css\">\n",
              "#T_bd7ed th {\n",
              "  text-align: left;\n",
              "}\n",
              "#T_bd7ed_row0_col0, #T_bd7ed_row0_col2, #T_bd7ed_row0_col3, #T_bd7ed_row0_col4, #T_bd7ed_row1_col0, #T_bd7ed_row1_col1, #T_bd7ed_row1_col2, #T_bd7ed_row1_col3, #T_bd7ed_row1_col4, #T_bd7ed_row1_col5, #T_bd7ed_row1_col6, #T_bd7ed_row1_col7, #T_bd7ed_row2_col0, #T_bd7ed_row2_col1, #T_bd7ed_row2_col3, #T_bd7ed_row2_col5, #T_bd7ed_row2_col6, #T_bd7ed_row2_col7, #T_bd7ed_row3_col0, #T_bd7ed_row3_col1, #T_bd7ed_row3_col2, #T_bd7ed_row3_col3, #T_bd7ed_row3_col4, #T_bd7ed_row3_col5, #T_bd7ed_row3_col6, #T_bd7ed_row3_col7, #T_bd7ed_row4_col0, #T_bd7ed_row4_col1, #T_bd7ed_row4_col2, #T_bd7ed_row4_col3, #T_bd7ed_row4_col4, #T_bd7ed_row4_col5, #T_bd7ed_row4_col6, #T_bd7ed_row4_col7, #T_bd7ed_row5_col0, #T_bd7ed_row5_col1, #T_bd7ed_row5_col2, #T_bd7ed_row5_col3, #T_bd7ed_row5_col4, #T_bd7ed_row5_col5, #T_bd7ed_row5_col6, #T_bd7ed_row5_col7, #T_bd7ed_row6_col0, #T_bd7ed_row6_col1, #T_bd7ed_row6_col2, #T_bd7ed_row6_col3, #T_bd7ed_row6_col4, #T_bd7ed_row6_col5, #T_bd7ed_row6_col6, #T_bd7ed_row6_col7, #T_bd7ed_row7_col0, #T_bd7ed_row7_col1, #T_bd7ed_row7_col2, #T_bd7ed_row7_col3, #T_bd7ed_row7_col4, #T_bd7ed_row7_col5, #T_bd7ed_row7_col6, #T_bd7ed_row7_col7, #T_bd7ed_row8_col0, #T_bd7ed_row8_col1, #T_bd7ed_row8_col2, #T_bd7ed_row8_col3, #T_bd7ed_row8_col4, #T_bd7ed_row8_col5, #T_bd7ed_row8_col6, #T_bd7ed_row8_col7, #T_bd7ed_row9_col0, #T_bd7ed_row9_col1, #T_bd7ed_row9_col2, #T_bd7ed_row9_col3, #T_bd7ed_row9_col4, #T_bd7ed_row9_col5, #T_bd7ed_row9_col6, #T_bd7ed_row9_col7, #T_bd7ed_row10_col0, #T_bd7ed_row10_col1, #T_bd7ed_row10_col2, #T_bd7ed_row10_col3, #T_bd7ed_row10_col4, #T_bd7ed_row10_col5, #T_bd7ed_row10_col6, #T_bd7ed_row10_col7, #T_bd7ed_row11_col0, #T_bd7ed_row11_col1, #T_bd7ed_row11_col2, #T_bd7ed_row11_col3, #T_bd7ed_row11_col4, #T_bd7ed_row11_col5, #T_bd7ed_row11_col6, #T_bd7ed_row11_col7, #T_bd7ed_row12_col0, #T_bd7ed_row12_col1, #T_bd7ed_row12_col2, #T_bd7ed_row12_col3, #T_bd7ed_row12_col4, #T_bd7ed_row12_col5, #T_bd7ed_row12_col6, #T_bd7ed_row12_col7, #T_bd7ed_row13_col0, #T_bd7ed_row13_col1, #T_bd7ed_row13_col2, #T_bd7ed_row13_col3, #T_bd7ed_row13_col4, #T_bd7ed_row13_col5, #T_bd7ed_row13_col6, #T_bd7ed_row13_col7, #T_bd7ed_row14_col0, #T_bd7ed_row14_col1, #T_bd7ed_row14_col2, #T_bd7ed_row14_col4, #T_bd7ed_row14_col5, #T_bd7ed_row14_col6, #T_bd7ed_row14_col7 {\n",
              "  text-align: left;\n",
              "}\n",
              "#T_bd7ed_row0_col1, #T_bd7ed_row0_col5, #T_bd7ed_row0_col6, #T_bd7ed_row0_col7, #T_bd7ed_row2_col2, #T_bd7ed_row2_col4, #T_bd7ed_row14_col3 {\n",
              "  text-align: left;\n",
              "  background-color: yellow;\n",
              "}\n",
              "#T_bd7ed_row0_col8, #T_bd7ed_row1_col8, #T_bd7ed_row2_col8, #T_bd7ed_row3_col8, #T_bd7ed_row4_col8, #T_bd7ed_row5_col8, #T_bd7ed_row6_col8, #T_bd7ed_row7_col8, #T_bd7ed_row8_col8, #T_bd7ed_row9_col8, #T_bd7ed_row10_col8, #T_bd7ed_row11_col8, #T_bd7ed_row13_col8, #T_bd7ed_row14_col8 {\n",
              "  text-align: left;\n",
              "  background-color: lightgrey;\n",
              "}\n",
              "#T_bd7ed_row12_col8 {\n",
              "  text-align: left;\n",
              "  background-color: yellow;\n",
              "  background-color: lightgrey;\n",
              "}\n",
              "</style>\n",
              "<table id=\"T_bd7ed\" class=\"dataframe\">\n",
              "  <thead>\n",
              "    <tr>\n",
              "      <th class=\"blank level0\" >&nbsp;</th>\n",
              "      <th id=\"T_bd7ed_level0_col0\" class=\"col_heading level0 col0\" >Model</th>\n",
              "      <th id=\"T_bd7ed_level0_col1\" class=\"col_heading level0 col1\" >Accuracy</th>\n",
              "      <th id=\"T_bd7ed_level0_col2\" class=\"col_heading level0 col2\" >AUC</th>\n",
              "      <th id=\"T_bd7ed_level0_col3\" class=\"col_heading level0 col3\" >Recall</th>\n",
              "      <th id=\"T_bd7ed_level0_col4\" class=\"col_heading level0 col4\" >Prec.</th>\n",
              "      <th id=\"T_bd7ed_level0_col5\" class=\"col_heading level0 col5\" >F1</th>\n",
              "      <th id=\"T_bd7ed_level0_col6\" class=\"col_heading level0 col6\" >Kappa</th>\n",
              "      <th id=\"T_bd7ed_level0_col7\" class=\"col_heading level0 col7\" >MCC</th>\n",
              "      <th id=\"T_bd7ed_level0_col8\" class=\"col_heading level0 col8\" >TT (Sec)</th>\n",
              "    </tr>\n",
              "  </thead>\n",
              "  <tbody>\n",
              "    <tr>\n",
              "      <th id=\"T_bd7ed_level0_row0\" class=\"row_heading level0 row0\" >svm</th>\n",
              "      <td id=\"T_bd7ed_row0_col0\" class=\"data row0 col0\" >SVM - Linear Kernel</td>\n",
              "      <td id=\"T_bd7ed_row0_col1\" class=\"data row0 col1\" >0.9805</td>\n",
              "      <td id=\"T_bd7ed_row0_col2\" class=\"data row0 col2\" >0.9871</td>\n",
              "      <td id=\"T_bd7ed_row0_col3\" class=\"data row0 col3\" >0.8791</td>\n",
              "      <td id=\"T_bd7ed_row0_col4\" class=\"data row0 col4\" >0.9725</td>\n",
              "      <td id=\"T_bd7ed_row0_col5\" class=\"data row0 col5\" >0.9218</td>\n",
              "      <td id=\"T_bd7ed_row0_col6\" class=\"data row0 col6\" >0.9108</td>\n",
              "      <td id=\"T_bd7ed_row0_col7\" class=\"data row0 col7\" >0.9133</td>\n",
              "      <td id=\"T_bd7ed_row0_col8\" class=\"data row0 col8\" >1.6460</td>\n",
              "    </tr>\n",
              "    <tr>\n",
              "      <th id=\"T_bd7ed_level0_row1\" class=\"row_heading level0 row1\" >et</th>\n",
              "      <td id=\"T_bd7ed_row1_col0\" class=\"data row1 col0\" >Extra Trees Classifier</td>\n",
              "      <td id=\"T_bd7ed_row1_col1\" class=\"data row1 col1\" >0.9767</td>\n",
              "      <td id=\"T_bd7ed_row1_col2\" class=\"data row1 col2\" >0.9916</td>\n",
              "      <td id=\"T_bd7ed_row1_col3\" class=\"data row1 col3\" >0.8302</td>\n",
              "      <td id=\"T_bd7ed_row1_col4\" class=\"data row1 col4\" >0.9944</td>\n",
              "      <td id=\"T_bd7ed_row1_col5\" class=\"data row1 col5\" >0.9036</td>\n",
              "      <td id=\"T_bd7ed_row1_col6\" class=\"data row1 col6\" >0.8906</td>\n",
              "      <td id=\"T_bd7ed_row1_col7\" class=\"data row1 col7\" >0.8960</td>\n",
              "      <td id=\"T_bd7ed_row1_col8\" class=\"data row1 col8\" >7.9160</td>\n",
              "    </tr>\n",
              "    <tr>\n",
              "      <th id=\"T_bd7ed_level0_row2\" class=\"row_heading level0 row2\" >ridge</th>\n",
              "      <td id=\"T_bd7ed_row2_col0\" class=\"data row2 col0\" >Ridge Classifier</td>\n",
              "      <td id=\"T_bd7ed_row2_col1\" class=\"data row2 col1\" >0.9764</td>\n",
              "      <td id=\"T_bd7ed_row2_col2\" class=\"data row2 col2\" >0.9920</td>\n",
              "      <td id=\"T_bd7ed_row2_col3\" class=\"data row2 col3\" >0.8252</td>\n",
              "      <td id=\"T_bd7ed_row2_col4\" class=\"data row2 col4\" >0.9970</td>\n",
              "      <td id=\"T_bd7ed_row2_col5\" class=\"data row2 col5\" >0.9016</td>\n",
              "      <td id=\"T_bd7ed_row2_col6\" class=\"data row2 col6\" >0.8885</td>\n",
              "      <td id=\"T_bd7ed_row2_col7\" class=\"data row2 col7\" >0.8944</td>\n",
              "      <td id=\"T_bd7ed_row2_col8\" class=\"data row2 col8\" >3.1790</td>\n",
              "    </tr>\n",
              "    <tr>\n",
              "      <th id=\"T_bd7ed_level0_row3\" class=\"row_heading level0 row3\" >lr</th>\n",
              "      <td id=\"T_bd7ed_row3_col0\" class=\"data row3 col0\" >Logistic Regression</td>\n",
              "      <td id=\"T_bd7ed_row3_col1\" class=\"data row3 col1\" >0.9747</td>\n",
              "      <td id=\"T_bd7ed_row3_col2\" class=\"data row3 col2\" >0.9900</td>\n",
              "      <td id=\"T_bd7ed_row3_col3\" class=\"data row3 col3\" >0.8252</td>\n",
              "      <td id=\"T_bd7ed_row3_col4\" class=\"data row3 col4\" >0.9817</td>\n",
              "      <td id=\"T_bd7ed_row3_col5\" class=\"data row3 col5\" >0.8961</td>\n",
              "      <td id=\"T_bd7ed_row3_col6\" class=\"data row3 col6\" >0.8818</td>\n",
              "      <td id=\"T_bd7ed_row3_col7\" class=\"data row3 col7\" >0.8865</td>\n",
              "      <td id=\"T_bd7ed_row3_col8\" class=\"data row3 col8\" >2.0860</td>\n",
              "    </tr>\n",
              "    <tr>\n",
              "      <th id=\"T_bd7ed_level0_row4\" class=\"row_heading level0 row4\" >xgboost</th>\n",
              "      <td id=\"T_bd7ed_row4_col0\" class=\"data row4 col0\" >Extreme Gradient Boosting</td>\n",
              "      <td id=\"T_bd7ed_row4_col1\" class=\"data row4 col1\" >0.9730</td>\n",
              "      <td id=\"T_bd7ed_row4_col2\" class=\"data row4 col2\" >0.9807</td>\n",
              "      <td id=\"T_bd7ed_row4_col3\" class=\"data row4 col3\" >0.8330</td>\n",
              "      <td id=\"T_bd7ed_row4_col4\" class=\"data row4 col4\" >0.9594</td>\n",
              "      <td id=\"T_bd7ed_row4_col5\" class=\"data row4 col5\" >0.8901</td>\n",
              "      <td id=\"T_bd7ed_row4_col6\" class=\"data row4 col6\" >0.8749</td>\n",
              "      <td id=\"T_bd7ed_row4_col7\" class=\"data row4 col7\" >0.8787</td>\n",
              "      <td id=\"T_bd7ed_row4_col8\" class=\"data row4 col8\" >12.4000</td>\n",
              "    </tr>\n",
              "    <tr>\n",
              "      <th id=\"T_bd7ed_level0_row5\" class=\"row_heading level0 row5\" >rf</th>\n",
              "      <td id=\"T_bd7ed_row5_col0\" class=\"data row5 col0\" >Random Forest Classifier</td>\n",
              "      <td id=\"T_bd7ed_row5_col1\" class=\"data row5 col1\" >0.9706</td>\n",
              "      <td id=\"T_bd7ed_row5_col2\" class=\"data row5 col2\" >0.9898</td>\n",
              "      <td id=\"T_bd7ed_row5_col3\" class=\"data row5 col3\" >0.7814</td>\n",
              "      <td id=\"T_bd7ed_row5_col4\" class=\"data row5 col4\" >0.9967</td>\n",
              "      <td id=\"T_bd7ed_row5_col5\" class=\"data row5 col5\" >0.8749</td>\n",
              "      <td id=\"T_bd7ed_row5_col6\" class=\"data row5 col6\" >0.8586</td>\n",
              "      <td id=\"T_bd7ed_row5_col7\" class=\"data row5 col7\" >0.8674</td>\n",
              "      <td id=\"T_bd7ed_row5_col8\" class=\"data row5 col8\" >5.3930</td>\n",
              "    </tr>\n",
              "    <tr>\n",
              "      <th id=\"T_bd7ed_level0_row6\" class=\"row_heading level0 row6\" >lightgbm</th>\n",
              "      <td id=\"T_bd7ed_row6_col0\" class=\"data row6 col0\" >Light Gradient Boosting Machine</td>\n",
              "      <td id=\"T_bd7ed_row6_col1\" class=\"data row6 col1\" >0.9679</td>\n",
              "      <td id=\"T_bd7ed_row6_col2\" class=\"data row6 col2\" >0.9733</td>\n",
              "      <td id=\"T_bd7ed_row6_col3\" class=\"data row6 col3\" >0.8356</td>\n",
              "      <td id=\"T_bd7ed_row6_col4\" class=\"data row6 col4\" >0.9200</td>\n",
              "      <td id=\"T_bd7ed_row6_col5\" class=\"data row6 col5\" >0.8735</td>\n",
              "      <td id=\"T_bd7ed_row6_col6\" class=\"data row6 col6\" >0.8552</td>\n",
              "      <td id=\"T_bd7ed_row6_col7\" class=\"data row6 col7\" >0.8579</td>\n",
              "      <td id=\"T_bd7ed_row6_col8\" class=\"data row6 col8\" >2.7220</td>\n",
              "    </tr>\n",
              "    <tr>\n",
              "      <th id=\"T_bd7ed_level0_row7\" class=\"row_heading level0 row7\" >ada</th>\n",
              "      <td id=\"T_bd7ed_row7_col0\" class=\"data row7 col0\" >Ada Boost Classifier</td>\n",
              "      <td id=\"T_bd7ed_row7_col1\" class=\"data row7 col1\" >0.9655</td>\n",
              "      <td id=\"T_bd7ed_row7_col2\" class=\"data row7 col2\" >0.9637</td>\n",
              "      <td id=\"T_bd7ed_row7_col3\" class=\"data row7 col3\" >0.7790</td>\n",
              "      <td id=\"T_bd7ed_row7_col4\" class=\"data row7 col4\" >0.9536</td>\n",
              "      <td id=\"T_bd7ed_row7_col5\" class=\"data row7 col5\" >0.8560</td>\n",
              "      <td id=\"T_bd7ed_row7_col6\" class=\"data row7 col6\" >0.8366</td>\n",
              "      <td id=\"T_bd7ed_row7_col7\" class=\"data row7 col7\" >0.8431</td>\n",
              "      <td id=\"T_bd7ed_row7_col8\" class=\"data row7 col8\" >5.7580</td>\n",
              "    </tr>\n",
              "    <tr>\n",
              "      <th id=\"T_bd7ed_level0_row8\" class=\"row_heading level0 row8\" >dt</th>\n",
              "      <td id=\"T_bd7ed_row8_col0\" class=\"data row8 col0\" >Decision Tree Classifier</td>\n",
              "      <td id=\"T_bd7ed_row8_col1\" class=\"data row8 col1\" >0.9641</td>\n",
              "      <td id=\"T_bd7ed_row8_col2\" class=\"data row8 col2\" >0.8999</td>\n",
              "      <td id=\"T_bd7ed_row8_col3\" class=\"data row8 col3\" >0.8124</td>\n",
              "      <td id=\"T_bd7ed_row8_col4\" class=\"data row8 col4\" >0.9093</td>\n",
              "      <td id=\"T_bd7ed_row8_col5\" class=\"data row8 col5\" >0.8560</td>\n",
              "      <td id=\"T_bd7ed_row8_col6\" class=\"data row8 col6\" >0.8356</td>\n",
              "      <td id=\"T_bd7ed_row8_col7\" class=\"data row8 col7\" >0.8387</td>\n",
              "      <td id=\"T_bd7ed_row8_col8\" class=\"data row8 col8\" >2.8520</td>\n",
              "    </tr>\n",
              "    <tr>\n",
              "      <th id=\"T_bd7ed_level0_row9\" class=\"row_heading level0 row9\" >gbc</th>\n",
              "      <td id=\"T_bd7ed_row9_col0\" class=\"data row9 col0\" >Gradient Boosting Classifier</td>\n",
              "      <td id=\"T_bd7ed_row9_col1\" class=\"data row9 col1\" >0.9583</td>\n",
              "      <td id=\"T_bd7ed_row9_col2\" class=\"data row9 col2\" >0.9723</td>\n",
              "      <td id=\"T_bd7ed_row9_col3\" class=\"data row9 col3\" >0.7016</td>\n",
              "      <td id=\"T_bd7ed_row9_col4\" class=\"data row9 col4\" >0.9794</td>\n",
              "      <td id=\"T_bd7ed_row9_col5\" class=\"data row9 col5\" >0.8152</td>\n",
              "      <td id=\"T_bd7ed_row9_col6\" class=\"data row9 col6\" >0.7926</td>\n",
              "      <td id=\"T_bd7ed_row9_col7\" class=\"data row9 col7\" >0.8079</td>\n",
              "      <td id=\"T_bd7ed_row9_col8\" class=\"data row9 col8\" >14.8990</td>\n",
              "    </tr>\n",
              "    <tr>\n",
              "      <th id=\"T_bd7ed_level0_row10\" class=\"row_heading level0 row10\" >nb</th>\n",
              "      <td id=\"T_bd7ed_row10_col0\" class=\"data row10 col0\" >Naive Bayes</td>\n",
              "      <td id=\"T_bd7ed_row10_col1\" class=\"data row10 col1\" >0.8937</td>\n",
              "      <td id=\"T_bd7ed_row10_col2\" class=\"data row10 col2\" >0.9060</td>\n",
              "      <td id=\"T_bd7ed_row10_col3\" class=\"data row10 col3\" >0.9229</td>\n",
              "      <td id=\"T_bd7ed_row10_col4\" class=\"data row10 col4\" >0.5671</td>\n",
              "      <td id=\"T_bd7ed_row10_col5\" class=\"data row10 col5\" >0.7007</td>\n",
              "      <td id=\"T_bd7ed_row10_col6\" class=\"data row10 col6\" >0.6411</td>\n",
              "      <td id=\"T_bd7ed_row10_col7\" class=\"data row10 col7\" >0.6702</td>\n",
              "      <td id=\"T_bd7ed_row10_col8\" class=\"data row10 col8\" >1.9780</td>\n",
              "    </tr>\n",
              "    <tr>\n",
              "      <th id=\"T_bd7ed_level0_row11\" class=\"row_heading level0 row11\" >knn</th>\n",
              "      <td id=\"T_bd7ed_row11_col0\" class=\"data row11 col0\" >K Neighbors Classifier</td>\n",
              "      <td id=\"T_bd7ed_row11_col1\" class=\"data row11 col1\" >0.8933</td>\n",
              "      <td id=\"T_bd7ed_row11_col2\" class=\"data row11 col2\" >0.7735</td>\n",
              "      <td id=\"T_bd7ed_row11_col3\" class=\"data row11 col3\" >0.2003</td>\n",
              "      <td id=\"T_bd7ed_row11_col4\" class=\"data row11 col4\" >0.9833</td>\n",
              "      <td id=\"T_bd7ed_row11_col5\" class=\"data row11 col5\" >0.3302</td>\n",
              "      <td id=\"T_bd7ed_row11_col6\" class=\"data row11 col6\" >0.2996</td>\n",
              "      <td id=\"T_bd7ed_row11_col7\" class=\"data row11 col7\" >0.4154</td>\n",
              "      <td id=\"T_bd7ed_row11_col8\" class=\"data row11 col8\" >2.3190</td>\n",
              "    </tr>\n",
              "    <tr>\n",
              "      <th id=\"T_bd7ed_level0_row12\" class=\"row_heading level0 row12\" >dummy</th>\n",
              "      <td id=\"T_bd7ed_row12_col0\" class=\"data row12 col0\" >Dummy Classifier</td>\n",
              "      <td id=\"T_bd7ed_row12_col1\" class=\"data row12 col1\" >0.8670</td>\n",
              "      <td id=\"T_bd7ed_row12_col2\" class=\"data row12 col2\" >0.5000</td>\n",
              "      <td id=\"T_bd7ed_row12_col3\" class=\"data row12 col3\" >0.0000</td>\n",
              "      <td id=\"T_bd7ed_row12_col4\" class=\"data row12 col4\" >0.0000</td>\n",
              "      <td id=\"T_bd7ed_row12_col5\" class=\"data row12 col5\" >0.0000</td>\n",
              "      <td id=\"T_bd7ed_row12_col6\" class=\"data row12 col6\" >0.0000</td>\n",
              "      <td id=\"T_bd7ed_row12_col7\" class=\"data row12 col7\" >0.0000</td>\n",
              "      <td id=\"T_bd7ed_row12_col8\" class=\"data row12 col8\" >0.8790</td>\n",
              "    </tr>\n",
              "    <tr>\n",
              "      <th id=\"T_bd7ed_level0_row13\" class=\"row_heading level0 row13\" >lda</th>\n",
              "      <td id=\"T_bd7ed_row13_col0\" class=\"data row13 col0\" >Linear Discriminant Analysis</td>\n",
              "      <td id=\"T_bd7ed_row13_col1\" class=\"data row13 col1\" >0.8298</td>\n",
              "      <td id=\"T_bd7ed_row13_col2\" class=\"data row13 col2\" >0.8048</td>\n",
              "      <td id=\"T_bd7ed_row13_col3\" class=\"data row13 col3\" >0.6966</td>\n",
              "      <td id=\"T_bd7ed_row13_col4\" class=\"data row13 col4\" >0.4236</td>\n",
              "      <td id=\"T_bd7ed_row13_col5\" class=\"data row13 col5\" >0.5249</td>\n",
              "      <td id=\"T_bd7ed_row13_col6\" class=\"data row13 col6\" >0.4299</td>\n",
              "      <td id=\"T_bd7ed_row13_col7\" class=\"data row13 col7\" >0.4504</td>\n",
              "      <td id=\"T_bd7ed_row13_col8\" class=\"data row13 col8\" >23.0400</td>\n",
              "    </tr>\n",
              "    <tr>\n",
              "      <th id=\"T_bd7ed_level0_row14\" class=\"row_heading level0 row14\" >qda</th>\n",
              "      <td id=\"T_bd7ed_row14_col0\" class=\"data row14 col0\" >Quadratic Discriminant Analysis</td>\n",
              "      <td id=\"T_bd7ed_row14_col1\" class=\"data row14 col1\" >0.3997</td>\n",
              "      <td id=\"T_bd7ed_row14_col2\" class=\"data row14 col2\" >0.9409</td>\n",
              "      <td id=\"T_bd7ed_row14_col3\" class=\"data row14 col3\" >1.0000</td>\n",
              "      <td id=\"T_bd7ed_row14_col4\" class=\"data row14 col4\" >0.1816</td>\n",
              "      <td id=\"T_bd7ed_row14_col5\" class=\"data row14 col5\" >0.3073</td>\n",
              "      <td id=\"T_bd7ed_row14_col6\" class=\"data row14 col6\" >0.1060</td>\n",
              "      <td id=\"T_bd7ed_row14_col7\" class=\"data row14 col7\" >0.2362</td>\n",
              "      <td id=\"T_bd7ed_row14_col8\" class=\"data row14 col8\" >19.8850</td>\n",
              "    </tr>\n",
              "  </tbody>\n",
              "</table>\n"
            ]
          },
          "metadata": {}
        },
        {
          "output_type": "display_data",
          "data": {
            "text/plain": [
              "Processing:   0%|          | 0/65 [00:00<?, ?it/s]"
            ],
            "application/vnd.jupyter.widget-view+json": {
              "version_major": 2,
              "version_minor": 0,
              "model_id": "5c9bab3b208c4df2a022748d939640e0"
            }
          },
          "metadata": {
            "application/vnd.jupyter.widget-view+json": {
              "colab": {
                "custom_widget_manager": {
                  "url": "https://ssl.gstatic.com/colaboratory-static/widgets/colab-cdn-widget-manager/2b70e893a8ba7c0f/manager.min.js"
                }
              }
            }
          }
        },
        {
          "output_type": "display_data",
          "data": {
            "text/plain": [
              "<IPython.core.display.HTML object>"
            ],
            "text/html": []
          },
          "metadata": {}
        },
        {
          "output_type": "stream",
          "name": "stdout",
          "text": [
            "Best model accuracy: 0.9791816223977028\n",
            "Classification Report:\n",
            "              precision    recall  f1-score   support\n",
            "\n",
            "         Ham       0.98      1.00      0.99      1202\n",
            "        Spam       0.98      0.86      0.92       191\n",
            "\n",
            "    accuracy                           0.98      1393\n",
            "   macro avg       0.98      0.93      0.95      1393\n",
            "weighted avg       0.98      0.98      0.98      1393\n",
            "\n"
          ]
        }
      ]
    },
    {
      "cell_type": "code",
      "source": [
        "# Finalize the best model\n",
        "final_model = finalize_model(best_model)"
      ],
      "metadata": {
        "id": "AsEcgc6l3GzY"
      },
      "execution_count": null,
      "outputs": []
    },
    {
      "cell_type": "code",
      "source": [
        "final_model"
      ],
      "metadata": {
        "colab": {
          "base_uri": "https://localhost:8080/",
          "height": 141
        },
        "id": "0_6DMhKa3JeS",
        "outputId": "628c9849-f55a-4cc4-c75c-4caa6846a317"
      },
      "execution_count": null,
      "outputs": [
        {
          "output_type": "execute_result",
          "data": {
            "text/plain": [
              "Pipeline(memory=Memory(location=None),\n",
              "         steps=[('placeholder', None),\n",
              "                ('actual_estimator',\n",
              "                 SGDClassifier(alpha=0.0001, average=False, class_weight=None,\n",
              "                               early_stopping=False, epsilon=0.1, eta0=0.001,\n",
              "                               fit_intercept=True, l1_ratio=0.15,\n",
              "                               learning_rate='optimal', loss='hinge',\n",
              "                               max_iter=1000, n_iter_no_change=5, n_jobs=-1,\n",
              "                               penalty='l2', power_t=0.5, random_state=42,\n",
              "                               shuffle=True, tol=0.001, validation_fraction=0.1,\n",
              "                               verbose=0, warm_start=False))],\n",
              "         verbose=False)"
            ],
            "text/html": [
              "<style>#sk-container-id-4 {\n",
              "  /* Definition of color scheme common for light and dark mode */\n",
              "  --sklearn-color-text: black;\n",
              "  --sklearn-color-line: gray;\n",
              "  /* Definition of color scheme for unfitted estimators */\n",
              "  --sklearn-color-unfitted-level-0: #fff5e6;\n",
              "  --sklearn-color-unfitted-level-1: #f6e4d2;\n",
              "  --sklearn-color-unfitted-level-2: #ffe0b3;\n",
              "  --sklearn-color-unfitted-level-3: chocolate;\n",
              "  /* Definition of color scheme for fitted estimators */\n",
              "  --sklearn-color-fitted-level-0: #f0f8ff;\n",
              "  --sklearn-color-fitted-level-1: #d4ebff;\n",
              "  --sklearn-color-fitted-level-2: #b3dbfd;\n",
              "  --sklearn-color-fitted-level-3: cornflowerblue;\n",
              "\n",
              "  /* Specific color for light theme */\n",
              "  --sklearn-color-text-on-default-background: var(--sg-text-color, var(--theme-code-foreground, var(--jp-content-font-color1, black)));\n",
              "  --sklearn-color-background: var(--sg-background-color, var(--theme-background, var(--jp-layout-color0, white)));\n",
              "  --sklearn-color-border-box: var(--sg-text-color, var(--theme-code-foreground, var(--jp-content-font-color1, black)));\n",
              "  --sklearn-color-icon: #696969;\n",
              "\n",
              "  @media (prefers-color-scheme: dark) {\n",
              "    /* Redefinition of color scheme for dark theme */\n",
              "    --sklearn-color-text-on-default-background: var(--sg-text-color, var(--theme-code-foreground, var(--jp-content-font-color1, white)));\n",
              "    --sklearn-color-background: var(--sg-background-color, var(--theme-background, var(--jp-layout-color0, #111)));\n",
              "    --sklearn-color-border-box: var(--sg-text-color, var(--theme-code-foreground, var(--jp-content-font-color1, white)));\n",
              "    --sklearn-color-icon: #878787;\n",
              "  }\n",
              "}\n",
              "\n",
              "#sk-container-id-4 {\n",
              "  color: var(--sklearn-color-text);\n",
              "}\n",
              "\n",
              "#sk-container-id-4 pre {\n",
              "  padding: 0;\n",
              "}\n",
              "\n",
              "#sk-container-id-4 input.sk-hidden--visually {\n",
              "  border: 0;\n",
              "  clip: rect(1px 1px 1px 1px);\n",
              "  clip: rect(1px, 1px, 1px, 1px);\n",
              "  height: 1px;\n",
              "  margin: -1px;\n",
              "  overflow: hidden;\n",
              "  padding: 0;\n",
              "  position: absolute;\n",
              "  width: 1px;\n",
              "}\n",
              "\n",
              "#sk-container-id-4 div.sk-dashed-wrapped {\n",
              "  border: 1px dashed var(--sklearn-color-line);\n",
              "  margin: 0 0.4em 0.5em 0.4em;\n",
              "  box-sizing: border-box;\n",
              "  padding-bottom: 0.4em;\n",
              "  background-color: var(--sklearn-color-background);\n",
              "}\n",
              "\n",
              "#sk-container-id-4 div.sk-container {\n",
              "  /* jupyter's `normalize.less` sets `[hidden] { display: none; }`\n",
              "     but bootstrap.min.css set `[hidden] { display: none !important; }`\n",
              "     so we also need the `!important` here to be able to override the\n",
              "     default hidden behavior on the sphinx rendered scikit-learn.org.\n",
              "     See: https://github.com/scikit-learn/scikit-learn/issues/21755 */\n",
              "  display: inline-block !important;\n",
              "  position: relative;\n",
              "}\n",
              "\n",
              "#sk-container-id-4 div.sk-text-repr-fallback {\n",
              "  display: none;\n",
              "}\n",
              "\n",
              "div.sk-parallel-item,\n",
              "div.sk-serial,\n",
              "div.sk-item {\n",
              "  /* draw centered vertical line to link estimators */\n",
              "  background-image: linear-gradient(var(--sklearn-color-text-on-default-background), var(--sklearn-color-text-on-default-background));\n",
              "  background-size: 2px 100%;\n",
              "  background-repeat: no-repeat;\n",
              "  background-position: center center;\n",
              "}\n",
              "\n",
              "/* Parallel-specific style estimator block */\n",
              "\n",
              "#sk-container-id-4 div.sk-parallel-item::after {\n",
              "  content: \"\";\n",
              "  width: 100%;\n",
              "  border-bottom: 2px solid var(--sklearn-color-text-on-default-background);\n",
              "  flex-grow: 1;\n",
              "}\n",
              "\n",
              "#sk-container-id-4 div.sk-parallel {\n",
              "  display: flex;\n",
              "  align-items: stretch;\n",
              "  justify-content: center;\n",
              "  background-color: var(--sklearn-color-background);\n",
              "  position: relative;\n",
              "}\n",
              "\n",
              "#sk-container-id-4 div.sk-parallel-item {\n",
              "  display: flex;\n",
              "  flex-direction: column;\n",
              "}\n",
              "\n",
              "#sk-container-id-4 div.sk-parallel-item:first-child::after {\n",
              "  align-self: flex-end;\n",
              "  width: 50%;\n",
              "}\n",
              "\n",
              "#sk-container-id-4 div.sk-parallel-item:last-child::after {\n",
              "  align-self: flex-start;\n",
              "  width: 50%;\n",
              "}\n",
              "\n",
              "#sk-container-id-4 div.sk-parallel-item:only-child::after {\n",
              "  width: 0;\n",
              "}\n",
              "\n",
              "/* Serial-specific style estimator block */\n",
              "\n",
              "#sk-container-id-4 div.sk-serial {\n",
              "  display: flex;\n",
              "  flex-direction: column;\n",
              "  align-items: center;\n",
              "  background-color: var(--sklearn-color-background);\n",
              "  padding-right: 1em;\n",
              "  padding-left: 1em;\n",
              "}\n",
              "\n",
              "\n",
              "/* Toggleable style: style used for estimator/Pipeline/ColumnTransformer box that is\n",
              "clickable and can be expanded/collapsed.\n",
              "- Pipeline and ColumnTransformer use this feature and define the default style\n",
              "- Estimators will overwrite some part of the style using the `sk-estimator` class\n",
              "*/\n",
              "\n",
              "/* Pipeline and ColumnTransformer style (default) */\n",
              "\n",
              "#sk-container-id-4 div.sk-toggleable {\n",
              "  /* Default theme specific background. It is overwritten whether we have a\n",
              "  specific estimator or a Pipeline/ColumnTransformer */\n",
              "  background-color: var(--sklearn-color-background);\n",
              "}\n",
              "\n",
              "/* Toggleable label */\n",
              "#sk-container-id-4 label.sk-toggleable__label {\n",
              "  cursor: pointer;\n",
              "  display: block;\n",
              "  width: 100%;\n",
              "  margin-bottom: 0;\n",
              "  padding: 0.5em;\n",
              "  box-sizing: border-box;\n",
              "  text-align: center;\n",
              "}\n",
              "\n",
              "#sk-container-id-4 label.sk-toggleable__label-arrow:before {\n",
              "  /* Arrow on the left of the label */\n",
              "  content: \"▸\";\n",
              "  float: left;\n",
              "  margin-right: 0.25em;\n",
              "  color: var(--sklearn-color-icon);\n",
              "}\n",
              "\n",
              "#sk-container-id-4 label.sk-toggleable__label-arrow:hover:before {\n",
              "  color: var(--sklearn-color-text);\n",
              "}\n",
              "\n",
              "/* Toggleable content - dropdown */\n",
              "\n",
              "#sk-container-id-4 div.sk-toggleable__content {\n",
              "  max-height: 0;\n",
              "  max-width: 0;\n",
              "  overflow: hidden;\n",
              "  text-align: left;\n",
              "  /* unfitted */\n",
              "  background-color: var(--sklearn-color-unfitted-level-0);\n",
              "}\n",
              "\n",
              "#sk-container-id-4 div.sk-toggleable__content.fitted {\n",
              "  /* fitted */\n",
              "  background-color: var(--sklearn-color-fitted-level-0);\n",
              "}\n",
              "\n",
              "#sk-container-id-4 div.sk-toggleable__content pre {\n",
              "  margin: 0.2em;\n",
              "  border-radius: 0.25em;\n",
              "  color: var(--sklearn-color-text);\n",
              "  /* unfitted */\n",
              "  background-color: var(--sklearn-color-unfitted-level-0);\n",
              "}\n",
              "\n",
              "#sk-container-id-4 div.sk-toggleable__content.fitted pre {\n",
              "  /* unfitted */\n",
              "  background-color: var(--sklearn-color-fitted-level-0);\n",
              "}\n",
              "\n",
              "#sk-container-id-4 input.sk-toggleable__control:checked~div.sk-toggleable__content {\n",
              "  /* Expand drop-down */\n",
              "  max-height: 200px;\n",
              "  max-width: 100%;\n",
              "  overflow: auto;\n",
              "}\n",
              "\n",
              "#sk-container-id-4 input.sk-toggleable__control:checked~label.sk-toggleable__label-arrow:before {\n",
              "  content: \"▾\";\n",
              "}\n",
              "\n",
              "/* Pipeline/ColumnTransformer-specific style */\n",
              "\n",
              "#sk-container-id-4 div.sk-label input.sk-toggleable__control:checked~label.sk-toggleable__label {\n",
              "  color: var(--sklearn-color-text);\n",
              "  background-color: var(--sklearn-color-unfitted-level-2);\n",
              "}\n",
              "\n",
              "#sk-container-id-4 div.sk-label.fitted input.sk-toggleable__control:checked~label.sk-toggleable__label {\n",
              "  background-color: var(--sklearn-color-fitted-level-2);\n",
              "}\n",
              "\n",
              "/* Estimator-specific style */\n",
              "\n",
              "/* Colorize estimator box */\n",
              "#sk-container-id-4 div.sk-estimator input.sk-toggleable__control:checked~label.sk-toggleable__label {\n",
              "  /* unfitted */\n",
              "  background-color: var(--sklearn-color-unfitted-level-2);\n",
              "}\n",
              "\n",
              "#sk-container-id-4 div.sk-estimator.fitted input.sk-toggleable__control:checked~label.sk-toggleable__label {\n",
              "  /* fitted */\n",
              "  background-color: var(--sklearn-color-fitted-level-2);\n",
              "}\n",
              "\n",
              "#sk-container-id-4 div.sk-label label.sk-toggleable__label,\n",
              "#sk-container-id-4 div.sk-label label {\n",
              "  /* The background is the default theme color */\n",
              "  color: var(--sklearn-color-text-on-default-background);\n",
              "}\n",
              "\n",
              "/* On hover, darken the color of the background */\n",
              "#sk-container-id-4 div.sk-label:hover label.sk-toggleable__label {\n",
              "  color: var(--sklearn-color-text);\n",
              "  background-color: var(--sklearn-color-unfitted-level-2);\n",
              "}\n",
              "\n",
              "/* Label box, darken color on hover, fitted */\n",
              "#sk-container-id-4 div.sk-label.fitted:hover label.sk-toggleable__label.fitted {\n",
              "  color: var(--sklearn-color-text);\n",
              "  background-color: var(--sklearn-color-fitted-level-2);\n",
              "}\n",
              "\n",
              "/* Estimator label */\n",
              "\n",
              "#sk-container-id-4 div.sk-label label {\n",
              "  font-family: monospace;\n",
              "  font-weight: bold;\n",
              "  display: inline-block;\n",
              "  line-height: 1.2em;\n",
              "}\n",
              "\n",
              "#sk-container-id-4 div.sk-label-container {\n",
              "  text-align: center;\n",
              "}\n",
              "\n",
              "/* Estimator-specific */\n",
              "#sk-container-id-4 div.sk-estimator {\n",
              "  font-family: monospace;\n",
              "  border: 1px dotted var(--sklearn-color-border-box);\n",
              "  border-radius: 0.25em;\n",
              "  box-sizing: border-box;\n",
              "  margin-bottom: 0.5em;\n",
              "  /* unfitted */\n",
              "  background-color: var(--sklearn-color-unfitted-level-0);\n",
              "}\n",
              "\n",
              "#sk-container-id-4 div.sk-estimator.fitted {\n",
              "  /* fitted */\n",
              "  background-color: var(--sklearn-color-fitted-level-0);\n",
              "}\n",
              "\n",
              "/* on hover */\n",
              "#sk-container-id-4 div.sk-estimator:hover {\n",
              "  /* unfitted */\n",
              "  background-color: var(--sklearn-color-unfitted-level-2);\n",
              "}\n",
              "\n",
              "#sk-container-id-4 div.sk-estimator.fitted:hover {\n",
              "  /* fitted */\n",
              "  background-color: var(--sklearn-color-fitted-level-2);\n",
              "}\n",
              "\n",
              "/* Specification for estimator info (e.g. \"i\" and \"?\") */\n",
              "\n",
              "/* Common style for \"i\" and \"?\" */\n",
              "\n",
              ".sk-estimator-doc-link,\n",
              "a:link.sk-estimator-doc-link,\n",
              "a:visited.sk-estimator-doc-link {\n",
              "  float: right;\n",
              "  font-size: smaller;\n",
              "  line-height: 1em;\n",
              "  font-family: monospace;\n",
              "  background-color: var(--sklearn-color-background);\n",
              "  border-radius: 1em;\n",
              "  height: 1em;\n",
              "  width: 1em;\n",
              "  text-decoration: none !important;\n",
              "  margin-left: 1ex;\n",
              "  /* unfitted */\n",
              "  border: var(--sklearn-color-unfitted-level-1) 1pt solid;\n",
              "  color: var(--sklearn-color-unfitted-level-1);\n",
              "}\n",
              "\n",
              ".sk-estimator-doc-link.fitted,\n",
              "a:link.sk-estimator-doc-link.fitted,\n",
              "a:visited.sk-estimator-doc-link.fitted {\n",
              "  /* fitted */\n",
              "  border: var(--sklearn-color-fitted-level-1) 1pt solid;\n",
              "  color: var(--sklearn-color-fitted-level-1);\n",
              "}\n",
              "\n",
              "/* On hover */\n",
              "div.sk-estimator:hover .sk-estimator-doc-link:hover,\n",
              ".sk-estimator-doc-link:hover,\n",
              "div.sk-label-container:hover .sk-estimator-doc-link:hover,\n",
              ".sk-estimator-doc-link:hover {\n",
              "  /* unfitted */\n",
              "  background-color: var(--sklearn-color-unfitted-level-3);\n",
              "  color: var(--sklearn-color-background);\n",
              "  text-decoration: none;\n",
              "}\n",
              "\n",
              "div.sk-estimator.fitted:hover .sk-estimator-doc-link.fitted:hover,\n",
              ".sk-estimator-doc-link.fitted:hover,\n",
              "div.sk-label-container:hover .sk-estimator-doc-link.fitted:hover,\n",
              ".sk-estimator-doc-link.fitted:hover {\n",
              "  /* fitted */\n",
              "  background-color: var(--sklearn-color-fitted-level-3);\n",
              "  color: var(--sklearn-color-background);\n",
              "  text-decoration: none;\n",
              "}\n",
              "\n",
              "/* Span, style for the box shown on hovering the info icon */\n",
              ".sk-estimator-doc-link span {\n",
              "  display: none;\n",
              "  z-index: 9999;\n",
              "  position: relative;\n",
              "  font-weight: normal;\n",
              "  right: .2ex;\n",
              "  padding: .5ex;\n",
              "  margin: .5ex;\n",
              "  width: min-content;\n",
              "  min-width: 20ex;\n",
              "  max-width: 50ex;\n",
              "  color: var(--sklearn-color-text);\n",
              "  box-shadow: 2pt 2pt 4pt #999;\n",
              "  /* unfitted */\n",
              "  background: var(--sklearn-color-unfitted-level-0);\n",
              "  border: .5pt solid var(--sklearn-color-unfitted-level-3);\n",
              "}\n",
              "\n",
              ".sk-estimator-doc-link.fitted span {\n",
              "  /* fitted */\n",
              "  background: var(--sklearn-color-fitted-level-0);\n",
              "  border: var(--sklearn-color-fitted-level-3);\n",
              "}\n",
              "\n",
              ".sk-estimator-doc-link:hover span {\n",
              "  display: block;\n",
              "}\n",
              "\n",
              "/* \"?\"-specific style due to the `<a>` HTML tag */\n",
              "\n",
              "#sk-container-id-4 a.estimator_doc_link {\n",
              "  float: right;\n",
              "  font-size: 1rem;\n",
              "  line-height: 1em;\n",
              "  font-family: monospace;\n",
              "  background-color: var(--sklearn-color-background);\n",
              "  border-radius: 1rem;\n",
              "  height: 1rem;\n",
              "  width: 1rem;\n",
              "  text-decoration: none;\n",
              "  /* unfitted */\n",
              "  color: var(--sklearn-color-unfitted-level-1);\n",
              "  border: var(--sklearn-color-unfitted-level-1) 1pt solid;\n",
              "}\n",
              "\n",
              "#sk-container-id-4 a.estimator_doc_link.fitted {\n",
              "  /* fitted */\n",
              "  border: var(--sklearn-color-fitted-level-1) 1pt solid;\n",
              "  color: var(--sklearn-color-fitted-level-1);\n",
              "}\n",
              "\n",
              "/* On hover */\n",
              "#sk-container-id-4 a.estimator_doc_link:hover {\n",
              "  /* unfitted */\n",
              "  background-color: var(--sklearn-color-unfitted-level-3);\n",
              "  color: var(--sklearn-color-background);\n",
              "  text-decoration: none;\n",
              "}\n",
              "\n",
              "#sk-container-id-4 a.estimator_doc_link.fitted:hover {\n",
              "  /* fitted */\n",
              "  background-color: var(--sklearn-color-fitted-level-3);\n",
              "}\n",
              "</style><div id=\"sk-container-id-4\" class=\"sk-top-container\"><div class=\"sk-text-repr-fallback\"><pre>Pipeline(memory=Memory(location=None),\n",
              "         steps=[(&#x27;placeholder&#x27;, None),\n",
              "                (&#x27;actual_estimator&#x27;,\n",
              "                 SGDClassifier(alpha=0.0001, average=False, class_weight=None,\n",
              "                               early_stopping=False, epsilon=0.1, eta0=0.001,\n",
              "                               fit_intercept=True, l1_ratio=0.15,\n",
              "                               learning_rate=&#x27;optimal&#x27;, loss=&#x27;hinge&#x27;,\n",
              "                               max_iter=1000, n_iter_no_change=5, n_jobs=-1,\n",
              "                               penalty=&#x27;l2&#x27;, power_t=0.5, random_state=42,\n",
              "                               shuffle=True, tol=0.001, validation_fraction=0.1,\n",
              "                               verbose=0, warm_start=False))],\n",
              "         verbose=False)</pre><b>In a Jupyter environment, please rerun this cell to show the HTML representation or trust the notebook. <br />On GitHub, the HTML representation is unable to render, please try loading this page with nbviewer.org.</b></div><div class=\"sk-container\" hidden><div class=\"sk-item sk-dashed-wrapped\"><div class=\"sk-label-container\"><div class=\"sk-label fitted sk-toggleable\"><input class=\"sk-toggleable__control sk-hidden--visually\" id=\"sk-estimator-id-21\" type=\"checkbox\" ><label for=\"sk-estimator-id-21\" class=\"sk-toggleable__label fitted sk-toggleable__label-arrow fitted\">&nbsp;Pipeline<span class=\"sk-estimator-doc-link fitted\">i<span>Fitted</span></span></label><div class=\"sk-toggleable__content fitted\"><pre>Pipeline(memory=Memory(location=None),\n",
              "         steps=[(&#x27;placeholder&#x27;, None),\n",
              "                (&#x27;actual_estimator&#x27;,\n",
              "                 SGDClassifier(alpha=0.0001, average=False, class_weight=None,\n",
              "                               early_stopping=False, epsilon=0.1, eta0=0.001,\n",
              "                               fit_intercept=True, l1_ratio=0.15,\n",
              "                               learning_rate=&#x27;optimal&#x27;, loss=&#x27;hinge&#x27;,\n",
              "                               max_iter=1000, n_iter_no_change=5, n_jobs=-1,\n",
              "                               penalty=&#x27;l2&#x27;, power_t=0.5, random_state=42,\n",
              "                               shuffle=True, tol=0.001, validation_fraction=0.1,\n",
              "                               verbose=0, warm_start=False))],\n",
              "         verbose=False)</pre></div> </div></div><div class=\"sk-serial\"><div class=\"sk-item\"><div class=\"sk-estimator fitted sk-toggleable\"><input class=\"sk-toggleable__control sk-hidden--visually\" id=\"sk-estimator-id-22\" type=\"checkbox\" ><label for=\"sk-estimator-id-22\" class=\"sk-toggleable__label fitted sk-toggleable__label-arrow fitted\">None</label><div class=\"sk-toggleable__content fitted\"><pre>None</pre></div> </div></div><div class=\"sk-item\"><div class=\"sk-estimator fitted sk-toggleable\"><input class=\"sk-toggleable__control sk-hidden--visually\" id=\"sk-estimator-id-23\" type=\"checkbox\" ><label for=\"sk-estimator-id-23\" class=\"sk-toggleable__label fitted sk-toggleable__label-arrow fitted\">&nbsp;SGDClassifier<a class=\"sk-estimator-doc-link fitted\" rel=\"noreferrer\" target=\"_blank\" href=\"https://scikit-learn.org/1.4/modules/generated/sklearn.linear_model.SGDClassifier.html\">?<span>Documentation for SGDClassifier</span></a></label><div class=\"sk-toggleable__content fitted\"><pre>SGDClassifier(eta0=0.001, n_jobs=-1, random_state=42)</pre></div> </div></div></div></div></div></div>"
            ]
          },
          "metadata": {},
          "execution_count": 111
        }
      ]
    },
    {
      "cell_type": "code",
      "source": [
        "# Get the best model's name\n",
        "best_model_name = str(best_model)\n",
        "best_model_name"
      ],
      "metadata": {
        "colab": {
          "base_uri": "https://localhost:8080/",
          "height": 70
        },
        "id": "FiE3pH_i3XBe",
        "outputId": "df9e8aab-7d91-4732-a0e1-1dc359be0552"
      },
      "execution_count": null,
      "outputs": [
        {
          "output_type": "execute_result",
          "data": {
            "text/plain": [
              "\"SGDClassifier(alpha=0.0001, average=False, class_weight=None,\\n              early_stopping=False, epsilon=0.1, eta0=0.001, fit_intercept=True,\\n              l1_ratio=0.15, learning_rate='optimal', loss='hinge',\\n              max_iter=1000, n_iter_no_change=5, n_jobs=-1, penalty='l2',\\n              power_t=0.5, random_state=42, shuffle=True, tol=0.001,\\n              validation_fraction=0.1, verbose=0, warm_start=False)\""
            ],
            "application/vnd.google.colaboratory.intrinsic+json": {
              "type": "string"
            }
          },
          "metadata": {},
          "execution_count": 113
        }
      ]
    },
    {
      "cell_type": "code",
      "source": [
        "# Evaluate the model on the test data\n",
        "y_pred = final_model.predict(X_test_vec.toarray())\n",
        "print(\"Accuracy on test data:\", accuracy_score(y_test, y_pred))"
      ],
      "metadata": {
        "colab": {
          "base_uri": "https://localhost:8080/"
        },
        "id": "-h144ZRI3c7A",
        "outputId": "4d2d3f59-4ea5-4f27-fa83-ea5562f65e87"
      },
      "execution_count": null,
      "outputs": [
        {
          "output_type": "stream",
          "name": "stdout",
          "text": [
            "Accuracy on test data: 0.9791816223977028\n"
          ]
        }
      ]
    },
    {
      "cell_type": "code",
      "source": [
        "# Print classification report\n",
        "print(\"Classification Report:\")\n",
        "print(classification_report(y_test, y_pred, target_names=['Ham', 'Spam']))"
      ],
      "metadata": {
        "colab": {
          "base_uri": "https://localhost:8080/"
        },
        "id": "AuXS2bxg3h0G",
        "outputId": "c9f1b97f-a89a-47f7-bf5d-f9cdc112a670"
      },
      "execution_count": null,
      "outputs": [
        {
          "output_type": "stream",
          "name": "stdout",
          "text": [
            "Classification Report:\n",
            "              precision    recall  f1-score   support\n",
            "\n",
            "         Ham       0.98      1.00      0.99      1202\n",
            "        Spam       0.98      0.86      0.92       191\n",
            "\n",
            "    accuracy                           0.98      1393\n",
            "   macro avg       0.98      0.93      0.95      1393\n",
            "weighted avg       0.98      0.98      0.98      1393\n",
            "\n"
          ]
        }
      ]
    },
    {
      "cell_type": "code",
      "source": [
        "test_emails = [\n",
        "    \"Congratulations! You've won a free ticket to the Bahamas! Call now!\",\n",
        "    \"Hey John, let's grab lunch tomorrow.\",\n",
        "    \"Get 50% off on your next purchase, only for today!\",\n",
        "    \"Can we reschedule our meeting to next week?\",\n",
        "    \"Get your coupon of 30% off\"\n",
        "]"
      ],
      "metadata": {
        "id": "iLH3vTJ63sRv"
      },
      "execution_count": null,
      "outputs": []
    },
    {
      "cell_type": "code",
      "source": [
        "# Preprocess and vectorize the test emails\n",
        "test_emails_vec = vectorizer.transform(test_emails)"
      ],
      "metadata": {
        "id": "mR_ezGh03uQj"
      },
      "execution_count": null,
      "outputs": []
    },
    {
      "cell_type": "code",
      "source": [
        "# Make predictions with the best model\n",
        "test_predictions = final_model.predict(test_emails_vec.toarray())"
      ],
      "metadata": {
        "id": "AagjrHvF3wGn"
      },
      "execution_count": null,
      "outputs": []
    },
    {
      "cell_type": "code",
      "source": [
        "# Output the results\n",
        "for email, prediction in zip(test_emails, test_predictions):\n",
        "    result = \"Spam\" if prediction == 1 else \"Not Spam\"\n",
        "    print(f\"Email: {email}\\nPrediction: {result}\\n\")\n"
      ],
      "metadata": {
        "colab": {
          "base_uri": "https://localhost:8080/"
        },
        "id": "E6RkA_wG3yfv",
        "outputId": "266f40ae-1419-4a2d-c6d6-575e4da49cd7"
      },
      "execution_count": null,
      "outputs": [
        {
          "output_type": "stream",
          "name": "stdout",
          "text": [
            "Email: Congratulations! You've won a free ticket to the Bahamas! Call now!\n",
            "Prediction: Not Spam\n",
            "\n",
            "Email: Hey John, let's grab lunch tomorrow.\n",
            "Prediction: Not Spam\n",
            "\n",
            "Email: Get 50% off on your next purchase, only for today!\n",
            "Prediction: Not Spam\n",
            "\n",
            "Email: Can we reschedule our meeting to next week?\n",
            "Prediction: Not Spam\n",
            "\n",
            "Email: Get your coupon of 30% off\n",
            "Prediction: Not Spam\n",
            "\n"
          ]
        }
      ]
    },
    {
      "cell_type": "code",
      "source": [],
      "metadata": {
        "id": "RFGOzcwN3-9M"
      },
      "execution_count": null,
      "outputs": []
    },
    {
      "cell_type": "code",
      "source": [],
      "metadata": {
        "id": "mTucClYp3-51"
      },
      "execution_count": null,
      "outputs": []
    },
    {
      "cell_type": "code",
      "source": [],
      "metadata": {
        "id": "wJFSCy_I3-3J"
      },
      "execution_count": null,
      "outputs": []
    }
  ],
  "metadata": {
    "colab": {
      "provenance": [],
      "collapsed_sections": [
        "HbdOq5-7YJ6v",
        "hf-FPZ-ZXul-",
        "Rd-K_HeKXAWD",
        "Mqccw-KrYpht"
      ]
    },
    "kernelspec": {
      "display_name": "Python 3",
      "name": "python3"
    },
    "language_info": {
      "name": "python"
    },
    "widgets": {
      "application/vnd.jupyter.widget-state+json": {
        "5c9bab3b208c4df2a022748d939640e0": {
          "model_module": "@jupyter-widgets/controls",
          "model_name": "HBoxModel",
          "model_module_version": "1.5.0",
          "state": {
            "_dom_classes": [],
            "_model_module": "@jupyter-widgets/controls",
            "_model_module_version": "1.5.0",
            "_model_name": "HBoxModel",
            "_view_count": null,
            "_view_module": "@jupyter-widgets/controls",
            "_view_module_version": "1.5.0",
            "_view_name": "HBoxView",
            "box_style": "",
            "children": [
              "IPY_MODEL_8171e57b92ff4bdda31ff8614f9f26df",
              "IPY_MODEL_6453d97575664dba81c1a1f94da083d9",
              "IPY_MODEL_08ffbacc21f7464aa44e2a93e83dba09"
            ],
            "layout": "IPY_MODEL_b37fe0276e3b48f7b77dc2c2f75150f2"
          }
        },
        "8171e57b92ff4bdda31ff8614f9f26df": {
          "model_module": "@jupyter-widgets/controls",
          "model_name": "HTMLModel",
          "model_module_version": "1.5.0",
          "state": {
            "_dom_classes": [],
            "_model_module": "@jupyter-widgets/controls",
            "_model_module_version": "1.5.0",
            "_model_name": "HTMLModel",
            "_view_count": null,
            "_view_module": "@jupyter-widgets/controls",
            "_view_module_version": "1.5.0",
            "_view_name": "HTMLView",
            "description": "",
            "description_tooltip": null,
            "layout": "IPY_MODEL_3f5063480ceb40b099283ec969bfb8e6",
            "placeholder": "​",
            "style": "IPY_MODEL_0179618291c246e5b80ff316a1f0e1ed",
            "value": "Processing: 100%"
          }
        },
        "6453d97575664dba81c1a1f94da083d9": {
          "model_module": "@jupyter-widgets/controls",
          "model_name": "FloatProgressModel",
          "model_module_version": "1.5.0",
          "state": {
            "_dom_classes": [],
            "_model_module": "@jupyter-widgets/controls",
            "_model_module_version": "1.5.0",
            "_model_name": "FloatProgressModel",
            "_view_count": null,
            "_view_module": "@jupyter-widgets/controls",
            "_view_module_version": "1.5.0",
            "_view_name": "ProgressView",
            "bar_style": "",
            "description": "",
            "description_tooltip": null,
            "layout": "IPY_MODEL_21058545361643319284d1b83ec59ad9",
            "max": 65,
            "min": 0,
            "orientation": "horizontal",
            "style": "IPY_MODEL_5a293489de0e4d75a4cebafdb9daaeeb",
            "value": 65
          }
        },
        "08ffbacc21f7464aa44e2a93e83dba09": {
          "model_module": "@jupyter-widgets/controls",
          "model_name": "HTMLModel",
          "model_module_version": "1.5.0",
          "state": {
            "_dom_classes": [],
            "_model_module": "@jupyter-widgets/controls",
            "_model_module_version": "1.5.0",
            "_model_name": "HTMLModel",
            "_view_count": null,
            "_view_module": "@jupyter-widgets/controls",
            "_view_module_version": "1.5.0",
            "_view_name": "HTMLView",
            "description": "",
            "description_tooltip": null,
            "layout": "IPY_MODEL_46a74a0a8d6348b5b00dce7c9b240695",
            "placeholder": "​",
            "style": "IPY_MODEL_29fea2ee52a04018ba5f876820a1768c",
            "value": " 65/65 [18:51&lt;00:00,  9.11s/it]"
          }
        },
        "b37fe0276e3b48f7b77dc2c2f75150f2": {
          "model_module": "@jupyter-widgets/base",
          "model_name": "LayoutModel",
          "model_module_version": "1.2.0",
          "state": {
            "_model_module": "@jupyter-widgets/base",
            "_model_module_version": "1.2.0",
            "_model_name": "LayoutModel",
            "_view_count": null,
            "_view_module": "@jupyter-widgets/base",
            "_view_module_version": "1.2.0",
            "_view_name": "LayoutView",
            "align_content": null,
            "align_items": null,
            "align_self": null,
            "border": null,
            "bottom": null,
            "display": null,
            "flex": null,
            "flex_flow": null,
            "grid_area": null,
            "grid_auto_columns": null,
            "grid_auto_flow": null,
            "grid_auto_rows": null,
            "grid_column": null,
            "grid_gap": null,
            "grid_row": null,
            "grid_template_areas": null,
            "grid_template_columns": null,
            "grid_template_rows": null,
            "height": null,
            "justify_content": null,
            "justify_items": null,
            "left": null,
            "margin": null,
            "max_height": null,
            "max_width": null,
            "min_height": null,
            "min_width": null,
            "object_fit": null,
            "object_position": null,
            "order": null,
            "overflow": null,
            "overflow_x": null,
            "overflow_y": null,
            "padding": null,
            "right": null,
            "top": null,
            "visibility": "hidden",
            "width": null
          }
        },
        "3f5063480ceb40b099283ec969bfb8e6": {
          "model_module": "@jupyter-widgets/base",
          "model_name": "LayoutModel",
          "model_module_version": "1.2.0",
          "state": {
            "_model_module": "@jupyter-widgets/base",
            "_model_module_version": "1.2.0",
            "_model_name": "LayoutModel",
            "_view_count": null,
            "_view_module": "@jupyter-widgets/base",
            "_view_module_version": "1.2.0",
            "_view_name": "LayoutView",
            "align_content": null,
            "align_items": null,
            "align_self": null,
            "border": null,
            "bottom": null,
            "display": null,
            "flex": null,
            "flex_flow": null,
            "grid_area": null,
            "grid_auto_columns": null,
            "grid_auto_flow": null,
            "grid_auto_rows": null,
            "grid_column": null,
            "grid_gap": null,
            "grid_row": null,
            "grid_template_areas": null,
            "grid_template_columns": null,
            "grid_template_rows": null,
            "height": null,
            "justify_content": null,
            "justify_items": null,
            "left": null,
            "margin": null,
            "max_height": null,
            "max_width": null,
            "min_height": null,
            "min_width": null,
            "object_fit": null,
            "object_position": null,
            "order": null,
            "overflow": null,
            "overflow_x": null,
            "overflow_y": null,
            "padding": null,
            "right": null,
            "top": null,
            "visibility": null,
            "width": null
          }
        },
        "0179618291c246e5b80ff316a1f0e1ed": {
          "model_module": "@jupyter-widgets/controls",
          "model_name": "DescriptionStyleModel",
          "model_module_version": "1.5.0",
          "state": {
            "_model_module": "@jupyter-widgets/controls",
            "_model_module_version": "1.5.0",
            "_model_name": "DescriptionStyleModel",
            "_view_count": null,
            "_view_module": "@jupyter-widgets/base",
            "_view_module_version": "1.2.0",
            "_view_name": "StyleView",
            "description_width": ""
          }
        },
        "21058545361643319284d1b83ec59ad9": {
          "model_module": "@jupyter-widgets/base",
          "model_name": "LayoutModel",
          "model_module_version": "1.2.0",
          "state": {
            "_model_module": "@jupyter-widgets/base",
            "_model_module_version": "1.2.0",
            "_model_name": "LayoutModel",
            "_view_count": null,
            "_view_module": "@jupyter-widgets/base",
            "_view_module_version": "1.2.0",
            "_view_name": "LayoutView",
            "align_content": null,
            "align_items": null,
            "align_self": null,
            "border": null,
            "bottom": null,
            "display": null,
            "flex": null,
            "flex_flow": null,
            "grid_area": null,
            "grid_auto_columns": null,
            "grid_auto_flow": null,
            "grid_auto_rows": null,
            "grid_column": null,
            "grid_gap": null,
            "grid_row": null,
            "grid_template_areas": null,
            "grid_template_columns": null,
            "grid_template_rows": null,
            "height": null,
            "justify_content": null,
            "justify_items": null,
            "left": null,
            "margin": null,
            "max_height": null,
            "max_width": null,
            "min_height": null,
            "min_width": null,
            "object_fit": null,
            "object_position": null,
            "order": null,
            "overflow": null,
            "overflow_x": null,
            "overflow_y": null,
            "padding": null,
            "right": null,
            "top": null,
            "visibility": null,
            "width": null
          }
        },
        "5a293489de0e4d75a4cebafdb9daaeeb": {
          "model_module": "@jupyter-widgets/controls",
          "model_name": "ProgressStyleModel",
          "model_module_version": "1.5.0",
          "state": {
            "_model_module": "@jupyter-widgets/controls",
            "_model_module_version": "1.5.0",
            "_model_name": "ProgressStyleModel",
            "_view_count": null,
            "_view_module": "@jupyter-widgets/base",
            "_view_module_version": "1.2.0",
            "_view_name": "StyleView",
            "bar_color": null,
            "description_width": ""
          }
        },
        "46a74a0a8d6348b5b00dce7c9b240695": {
          "model_module": "@jupyter-widgets/base",
          "model_name": "LayoutModel",
          "model_module_version": "1.2.0",
          "state": {
            "_model_module": "@jupyter-widgets/base",
            "_model_module_version": "1.2.0",
            "_model_name": "LayoutModel",
            "_view_count": null,
            "_view_module": "@jupyter-widgets/base",
            "_view_module_version": "1.2.0",
            "_view_name": "LayoutView",
            "align_content": null,
            "align_items": null,
            "align_self": null,
            "border": null,
            "bottom": null,
            "display": null,
            "flex": null,
            "flex_flow": null,
            "grid_area": null,
            "grid_auto_columns": null,
            "grid_auto_flow": null,
            "grid_auto_rows": null,
            "grid_column": null,
            "grid_gap": null,
            "grid_row": null,
            "grid_template_areas": null,
            "grid_template_columns": null,
            "grid_template_rows": null,
            "height": null,
            "justify_content": null,
            "justify_items": null,
            "left": null,
            "margin": null,
            "max_height": null,
            "max_width": null,
            "min_height": null,
            "min_width": null,
            "object_fit": null,
            "object_position": null,
            "order": null,
            "overflow": null,
            "overflow_x": null,
            "overflow_y": null,
            "padding": null,
            "right": null,
            "top": null,
            "visibility": null,
            "width": null
          }
        },
        "29fea2ee52a04018ba5f876820a1768c": {
          "model_module": "@jupyter-widgets/controls",
          "model_name": "DescriptionStyleModel",
          "model_module_version": "1.5.0",
          "state": {
            "_model_module": "@jupyter-widgets/controls",
            "_model_module_version": "1.5.0",
            "_model_name": "DescriptionStyleModel",
            "_view_count": null,
            "_view_module": "@jupyter-widgets/base",
            "_view_module_version": "1.2.0",
            "_view_name": "StyleView",
            "description_width": ""
          }
        }
      }
    }
  },
  "nbformat": 4,
  "nbformat_minor": 0
}